{
 "cells": [
  {
   "cell_type": "code",
   "execution_count": 1,
   "metadata": {
    "collapsed": false
   },
   "outputs": [],
   "source": [
    "from __future__ import print_function\n",
    "\n",
    "import time\n",
    "import re\n",
    "import os.path\n",
    "import fnmatch\n",
    "import sgmllib\n",
    "import urllib\n",
    "import tarfile\n",
    "\n",
    "import numpy as np\n",
    "import pylab as pl\n",
    "\n",
    "from sklearn.feature_extraction.text import HashingVectorizer\n",
    "from sklearn.feature_extraction.text import TfidfVectorizer\n",
    "from sklearn.linear_model.stochastic_gradient import SGDClassifier\n",
    "import itertools\n",
    "\n",
    "from pyspark import SparkContext"
   ]
  },
  {
   "cell_type": "code",
   "execution_count": 2,
   "metadata": {
    "collapsed": true
   },
   "outputs": [],
   "source": [
    "def _not_in_sphinx():\n",
    "    return '__file__' in globals()\n",
    "class ReutersParser(sgmllib.SGMLParser):\n",
    "    def __init__(self, verbose=0):\n",
    "        sgmllib.SGMLParser.__init__(self, verbose)\n",
    "        self._reset()\n",
    "\n",
    "    def _reset(self):\n",
    "        self.in_title = 0\n",
    "        self.in_body = 0\n",
    "        self.in_topics = 0\n",
    "        self.in_topic_d = 0\n",
    "        self.title = \"\"\n",
    "        self.body = \"\"\n",
    "        self.topics = []\n",
    "        self.topic_d = \"\"\n",
    "\n",
    "    def parse(self, fd):\n",
    "        self.docs = []\n",
    "        for chunk in fd:\n",
    "            self.feed(chunk)\n",
    "            for doc in self.docs:\n",
    "                yield doc\n",
    "            self.docs = []\n",
    "        self.close()\n",
    "\n",
    "    def handle_data(self, data):\n",
    "        if self.in_body:\n",
    "            self.body += data\n",
    "        elif self.in_title:\n",
    "            self.title += data\n",
    "        elif self.in_topic_d:\n",
    "            self.topic_d += data\n",
    "\n",
    "    def start_reuters(self, attributes):\n",
    "        pass\n",
    "\n",
    "    def end_reuters(self):\n",
    "        self.body = re.sub(r'\\s+', r' ', self.body)\n",
    "        self.docs.append({'title': self.title,\n",
    "                          'body': self.body,\n",
    "                          'topics': self.topics})\n",
    "        self._reset()\n",
    "\n",
    "    def start_title(self, attributes):\n",
    "        self.in_title = 1\n",
    "\n",
    "    def end_title(self):\n",
    "        self.in_title = 0\n",
    "\n",
    "    def start_body(self, attributes):\n",
    "        self.in_body = 1\n",
    "\n",
    "    def end_body(self):\n",
    "        self.in_body = 0\n",
    "\n",
    "    def start_topics(self, attributes):\n",
    "        self.in_topics = 1\n",
    "\n",
    "    def end_topics(self):\n",
    "        self.in_topics = 0\n",
    "\n",
    "    def start_d(self, attributes):\n",
    "        self.in_topic_d = 1\n",
    "\n",
    "    def end_d(self):\n",
    "        self.in_topic_d = 0\n",
    "        self.topics.append(self.topic_d)\n",
    "        self.topic_d = \"\"\n"
   ]
  },
  {
   "cell_type": "code",
   "execution_count": 3,
   "metadata": {
    "collapsed": true
   },
   "outputs": [],
   "source": [
    "class ReutersStreamReader():\n",
    "\n",
    "    DOWNLOAD_URL = ('http://archive.ics.uci.edu/ml/machine-learning-databases/'\n",
    "                    'reuters21578-mld/reuters21578.tar.gz')\n",
    "    ARCHIVE_FILENAME = 'reuters21578.tar.gz'\n",
    "\n",
    "    def __init__(self, data_path):\n",
    "        self.data_path = data_path\n",
    "        if not os.path.exists(self.data_path):\n",
    "            self.download_dataset()\n",
    "\n",
    "    def download_dataset(self):\n",
    "        \"\"\"Download the dataset.\"\"\"\n",
    "        print(\"downloading dataset (once and for all) into %s\" %\n",
    "              self.data_path)\n",
    "        os.mkdir(self.data_path)\n",
    "\n",
    "        def progress(blocknum, bs, size):\n",
    "            total_sz_mb = '%.2f MB' % (size / 1e6)\n",
    "            current_sz_mb = '%.2f MB' % ((blocknum * bs) / 1e6)\n",
    "            if _not_in_sphinx():\n",
    "                print('\\rdownloaded %s / %s' % (current_sz_mb, total_sz_mb),\n",
    "                      end='')\n",
    "        urllib.urlretrieve(self.DOWNLOAD_URL,\n",
    "                           filename=os.path.join(self.data_path,\n",
    "                                                 self.ARCHIVE_FILENAME),\n",
    "                           reporthook=progress)\n",
    "        if _not_in_sphinx():\n",
    "            print('\\r', end='')\n",
    "        print(\"untaring data ...\")\n",
    "        tfile = tarfile.open(os.path.join(self.data_path,\n",
    "                                          self.ARCHIVE_FILENAME),\n",
    "                             'r:gz')\n",
    "        tfile.extractall(self.data_path)\n",
    "        print(\"done !\")\n",
    "\n",
    "    def iterdocs(self):\n",
    "        \"\"\"Iterate doc by doc, yield a dict.\"\"\"\n",
    "        for root, _dirnames, filenames in os.walk(self.data_path):\n",
    "            for filename in fnmatch.filter(filenames, '*.sgm'):\n",
    "                path = os.path.join(root, filename)\n",
    "                parser = ReutersParser()\n",
    "                for doc in parser.parse(open(path)):\n",
    "                    yield doc"
   ]
  },
  {
   "cell_type": "code",
   "execution_count": 4,
   "metadata": {
    "collapsed": false
   },
   "outputs": [],
   "source": [
    "hasher = HashingVectorizer(decode_error='ignore', n_features=2 ** 18)\n",
    "tfidf = TfidfVectorizer( min_df=3,\n",
    "                        max_df=0.90, max_features=3000,\n",
    "                        use_idf=True, sublinear_tf=True,\n",
    "                        norm='l2');\n",
    "\n",
    "classifier = SGDClassifier()\n",
    "\n",
    "data_streamer = ReutersStreamReader('reuters').iterdocs()\n",
    "\n",
    "all_classes = np.array([0, 1])\n",
    "positive_class = ['acq', 'corn', 'crude', 'earn', 'grain', 'interest', 'money-fx', 'ship', 'trade', 'wheat']"
   ]
  },
  {
   "cell_type": "code",
   "execution_count": 5,
   "metadata": {
    "collapsed": false
   },
   "outputs": [],
   "source": [
    "temp = sc.parallelize(data_streamer)"
   ]
  },
  {
   "cell_type": "code",
   "execution_count": 6,
   "metadata": {
    "collapsed": false
   },
   "outputs": [
    {
     "data": {
      "text/plain": [
       "[{'body': '',\n",
       "  'title': \"TREASURY'S BAKER SAYS MACROECONOMIC INDICATORS NEED MORE PROMINENT ROLE\\n\",\n",
       "  'topics': ['james-baker']},\n",
       " {'body': '',\n",
       "  'title': 'HOSPITAL CORP SAYS IT RECEIVED 47 DLR A SHARE OFFER FROM INVESTOR GROUP\\n',\n",
       "  'topics': ['acq']},\n",
       " {'body': 'Qtly div five cts vs five cts prior Pay July 13 Record June 30 Reuter \\x03',\n",
       "  'title': 'BEVERLY ENTERPRISES <BEV> SETS REGULAR DIVIDEND',\n",
       "  'topics': ['earn', 'usa']}]"
      ]
     },
     "execution_count": 6,
     "metadata": {},
     "output_type": "execute_result"
    }
   ],
   "source": [
    "temp.take(3)"
   ]
  },
  {
   "cell_type": "code",
   "execution_count": 7,
   "metadata": {
    "collapsed": true
   },
   "outputs": [],
   "source": [
    "test = temp.filter(lambda s: s['topics'] == [])"
   ]
  },
  {
   "cell_type": "code",
   "execution_count": 8,
   "metadata": {
    "collapsed": false
   },
   "outputs": [],
   "source": [
    "test = test.map(lambda s: s['title']+\" \"+s['body'])"
   ]
  },
  {
   "cell_type": "code",
   "execution_count": 9,
   "metadata": {
    "collapsed": false
   },
   "outputs": [
    {
     "data": {
      "text/plain": [
       "['GENERAL NUTRITION FILES FOR SECONDARY OFFERING OF EIGHT MLN COMMON SHARES\\n ',\n",
       " 'TEXACO NOT REQUIRED TO POST BOND IN APPEAL OF PENNZOIL JUDGMENT, COURT SAYS\\n ',\n",
       " \"MOODY'S MAY DOWNGRADE IRVING BANK CORP, AFFECTS 950 MLN DLRS OF DEBT\\n \"]"
      ]
     },
     "execution_count": 9,
     "metadata": {},
     "output_type": "execute_result"
    }
   ],
   "source": [
    "test.take(3)"
   ]
  },
  {
   "cell_type": "code",
   "execution_count": 10,
   "metadata": {
    "collapsed": false
   },
   "outputs": [
    {
     "data": {
      "text/plain": [
       "1862"
      ]
     },
     "execution_count": 10,
     "metadata": {},
     "output_type": "execute_result"
    }
   ],
   "source": [
    "len(list(test.collect()))"
   ]
  },
  {
   "cell_type": "code",
   "execution_count": 11,
   "metadata": {
    "collapsed": true
   },
   "outputs": [],
   "source": [
    "test_data = tuple(test.collect())"
   ]
  },
  {
   "cell_type": "code",
   "execution_count": 12,
   "metadata": {
    "collapsed": false
   },
   "outputs": [],
   "source": [
    "test = hasher.transform(test_data)"
   ]
  },
  {
   "cell_type": "code",
   "execution_count": 38,
   "metadata": {
    "collapsed": true
   },
   "outputs": [],
   "source": [
    "stats = {'predict': 0.0}"
   ]
  },
  {
   "cell_type": "code",
   "execution_count": 55,
   "metadata": {
    "collapsed": false
   },
   "outputs": [
    {
     "data": {
      "text/plain": [
       "'def aux(topics):\\n    y_train = []\\n    for i in positive_class:\\n        y_train.append(i in topics)\\n    return np.asarray(y_train)'"
      ]
     },
     "execution_count": 55,
     "metadata": {},
     "output_type": "execute_result"
    }
   ],
   "source": [
    "'''def aux(topics):\n",
    "    y_train = []\n",
    "    for i in positive_class:\n",
    "        y_train.append(i in topics)\n",
    "    return np.asarray(y_train)'''"
   ]
  },
  {
   "cell_type": "code",
   "execution_count": 39,
   "metadata": {
    "collapsed": false
   },
   "outputs": [],
   "source": [
    "def get_minibatch(doc_iter, size, pos_class, transformer=hasher):\n",
    "\n",
    "    data = [('{title}\\n\\n{body}'.format(**doc), pos_class in doc['topics'])\n",
    "            for doc in itertools.islice(doc_iter, size)\n",
    "            if doc['topics']]\n",
    "    \n",
    "    if not len(data):\n",
    "        return np.asarray([], dtype=int), np.asarray([], dtype=int)\n",
    "    X, y = zip(*data)\n",
    "    return transformer.transform(X), np.asarray(y, dtype=int)"
   ]
  },
  {
   "cell_type": "code",
   "execution_count": 40,
   "metadata": {
    "collapsed": true
   },
   "outputs": [],
   "source": [
    "def iter_minibatchs(doc_iter, minibatch_size, pos_class):\n",
    "\n",
    "    X, y = get_minibatch(doc_iter, minibatch_size, pos_class)\n",
    "    while X.shape[0]:\n",
    "        yield X, y\n",
    "        X, y = get_minibatch(doc_iter, minibatch_size, pos_class)"
   ]
  },
  {
   "cell_type": "code",
   "execution_count": 41,
   "metadata": {
    "collapsed": true
   },
   "outputs": [],
   "source": [
    "data_streamer = ReutersStreamReader('reuters').iterdocs()\n",
    "minibatch_size = 100\n",
    "minibatch_iterators = iter_minibatchs(data_streamer, minibatch_size, positive_class[0])"
   ]
  },
  {
   "cell_type": "code",
   "execution_count": 42,
   "metadata": {
    "collapsed": false
   },
   "outputs": [],
   "source": [
    "def learn(classifier, stats, (X_train, y_train)):\n",
    "    classifier.partial_fit(X_train, y_train, classes=all_classes)\n",
    "    stats['predict'] = classifier.predict(test)\n",
    "    return classifier, stats"
   ]
  },
  {
   "cell_type": "code",
   "execution_count": 43,
   "metadata": {
    "collapsed": true
   },
   "outputs": [],
   "source": [
    "from sklearn.base import copy\n",
    "def merge((cf1, stats1), (cf2, stats2)):\n",
    "    new = copy.deepcopy(cf1)\n",
    "    new.coef_ += cf2.coef_\n",
    "    new.intercept_ += cf2.intercept_\n",
    "    return new, stats1"
   ]
  },
  {
   "cell_type": "code",
   "execution_count": 44,
   "metadata": {
    "collapsed": false
   },
   "outputs": [],
   "source": [
    "rdd = sc.parallelize(minibatch_iterators)"
   ]
  },
  {
   "cell_type": "code",
   "execution_count": 45,
   "metadata": {
    "collapsed": false,
    "scrolled": true
   },
   "outputs": [
    {
     "data": {
      "text/plain": [
       "[(<100x262144 sparse matrix of type '<type 'numpy.float64'>'\n",
       "  \twith 8551 stored elements in Compressed Sparse Row format>,\n",
       "  array([0, 1, 0, 0, 0, 0, 1, 0, 0, 0, 0, 0, 0, 0, 0, 0, 0, 0, 0, 0, 1, 0, 0,\n",
       "         0, 0, 1, 0, 0, 1, 0, 0, 0, 1, 0, 0, 0, 1, 0, 0, 0, 1, 0, 0, 0, 0, 0,\n",
       "         0, 0, 0, 0, 0, 0, 0, 0, 0, 0, 0, 0, 0, 0, 0, 0, 0, 0, 0, 0, 0, 0, 0,\n",
       "         0, 0, 0, 0, 0, 0, 0, 0, 0, 0, 0, 0, 0, 0, 0, 0, 0, 0, 0, 0, 0, 1, 0,\n",
       "         0, 0, 0, 0, 0, 0, 0, 0])),\n",
       " (<100x262144 sparse matrix of type '<type 'numpy.float64'>'\n",
       "  \twith 10876 stored elements in Compressed Sparse Row format>,\n",
       "  array([0, 0, 0, 0, 0, 0, 0, 0, 0, 0, 0, 0, 0, 0, 0, 0, 1, 0, 0, 0, 0, 0, 0,\n",
       "         0, 0, 0, 0, 0, 0, 1, 0, 0, 0, 0, 0, 1, 0, 0, 0, 0, 0, 0, 0, 0, 1, 0,\n",
       "         0, 0, 0, 0, 0, 1, 0, 0, 1, 0, 0, 0, 1, 0, 0, 0, 1, 0, 0, 0, 0, 0, 0,\n",
       "         0, 0, 0, 1, 0, 0, 1, 0, 0, 0, 0, 0, 0, 0, 0, 0, 0, 0, 0, 0, 0, 0, 0,\n",
       "         0, 0, 0, 0, 0, 0, 0, 0]))]"
      ]
     },
     "execution_count": 45,
     "metadata": {},
     "output_type": "execute_result"
    }
   ],
   "source": [
    "rdd.take(2)"
   ]
  },
  {
   "cell_type": "code",
   "execution_count": 46,
   "metadata": {
    "collapsed": false
   },
   "outputs": [],
   "source": [
    "rdd1 = rdd.map(lambda batch: learn(classifier, stats, batch))"
   ]
  },
  {
   "cell_type": "code",
   "execution_count": 47,
   "metadata": {
    "collapsed": false,
    "scrolled": true
   },
   "outputs": [
    {
     "data": {
      "text/plain": [
       "(SGDClassifier(alpha=0.0001, average=False, class_weight=None, epsilon=0.1,\n",
       "        eta0=0.0, fit_intercept=True, l1_ratio=0.15,\n",
       "        learning_rate='optimal', loss='hinge', n_iter=5, n_jobs=1,\n",
       "        penalty='l2', power_t=0.5, random_state=None, shuffle=True,\n",
       "        verbose=0, warm_start=False),\n",
       " {'predict': array([0, 0, 0, ..., 0, 0, 1])})"
      ]
     },
     "execution_count": 47,
     "metadata": {},
     "output_type": "execute_result"
    }
   ],
   "source": [
    "rdd1.first()"
   ]
  },
  {
   "cell_type": "code",
   "execution_count": 48,
   "metadata": {
    "collapsed": false
   },
   "outputs": [],
   "source": [
    "model, stats = rdd1.reduce(lambda l, r: merge(l, r))"
   ]
  },
  {
   "cell_type": "code",
   "execution_count": 49,
   "metadata": {
    "collapsed": false,
    "scrolled": true
   },
   "outputs": [
    {
     "name": "stdout",
     "output_type": "stream",
     "text": [
      "ALLIED-SIGNAL SAID IT SOLD MPB CORP FOR 145 MLN DLRS, ASSUMPTION OF DEBT\n",
      " \n",
      "MERRILL LYNCH SAYS IT FIRED NAHUM VASKEVITCH\n",
      " \n",
      " ALUSUISSE SAYS IT PLANS 50 PCT CAPITAL CUT\n",
      " \n",
      "CHRYSLER SAYS IT SOLD 405 MLN DLRS OF CORPORATE BONDS TO INVESTMENT BANKERS\n",
      " \n",
      "AMERICAN EXPRESS SAYS IT IS CONFIDENT OF ITS OPERATIONS\n",
      " \n",
      "CHASE MANHATTAN SAID IT BOUGHT ATLANTIC FINANCIAL FEDERAL PORTFOLIO FOR 370 MLN DLRS\n",
      " \n",
      "CHRYSLER CORP SAID IT IS ACCELERATING ITS STOCK REPURCHASE PROGRAM\n",
      " \n",
      "ALLEGIS SAID IT IS CREATING A LIMITED PARTNERSHIP TO SELL SOME CANADIAN HOTELS\n",
      " \n",
      "ALLEGIS SAID IT SEES PROCEEDS OF 350 MLN CANADIAN DLRS WHEN HOTELS ARE SOLD\n",
      " \n",
      "HOSPITAL CORP OF AMERICA <HCA> GETS MERGER BID Hospital Corp of America said it received a letter today from an investor group offering to buy the company for 47 dlrs a share. Based on 82 mln outstanding shares, the offer is worth about 3.85 billion dlrs. But the company said that it would take more than five billion dlrs to consummate the merger and retire certain company debt. It said it does not believe the offer is in the best interest of shareholders, but added that it is referring the matter to its board for discussions and would respond in due course. Hospital Corp of America said the letter was sent by Charles Miller and Richard Ragsdale, two former officers of <Republic Health Corp>, and Richard Scott, a partner in a Dallas law firm. The investors' letter stated that based on discussions with several major financial institutions they were confident financing for the transaction could be arranged, Hospital Corp of America said. But it said the letter did not indicate that the investors had made arrangements to obtain financing. It said no further significant details were outlined in the letter. Hospital Corp of America, a manager and owner of hospitals, earned 174.6 mln dlrs or 2.08 dlrs a share, on revenues of 4.93 billion dlrs in 1986. Reuter \u0003\n",
      "CYACQ ENDS TENDER FOR CYCLOPS, DIXONS AND AUDIO/VIDEO DISMISS LITIGATION\n",
      " \n",
      "GENCORP SAID IT IS DEVELOPING SUPERIOR ALTERNATIVE TO AFG'S 100 DLR/SHR OFFER\n",
      " \n",
      "REED'S CHAIRMAN DENIES BID RUMORS\n",
      " \n",
      "MARINE CORP SAYS MARSHALL AND ILLSLEY MADE AN OFFER\n",
      "VALUED AT 62.50 DLRS A SHR\n",
      "\n",
      " \n",
      "OLIVETTI SEEKS TO STRENGTHEN RADIOCOR BUSINESS Ing C Olivetti EC SpA <OLIV.MI> is in contact with Telerate Inc <TLR> of the U.S. And other, unidentifed groups with a view to strengthening its economic news agency business <Radiocor - Agenzia Giornalistica Economica Finanziaria SRL>, an Olivetti spokesman said. The spokesman was responding to a Reuters query following an item in the Milan weekly Milano Finanza saying Dow Jones and Co Inc <DJ>, which has a controlling stake in Telerate, could become a partner in Radiocor through subscribing to a capital increase. The spokesman said that Telerate was among many companies with which Olivetti was in contact, with a view to strengthening Radiocor through the entry into the business of new partners, but that no accord had been reached. He declined to identify the other companies involved, but Milano Finanza named the owners of the Italian financial daily Il Sole 24-Ore and <Societa Elenchi Ufficiali degli Abbonati al Telefono> as likely partners along with Telerate. Olivetti last month announced a joint information technology deal with Societa Elenchi, which specialises in publishing telephone and city directories, and the Italian publishing group <L'Espresso>. Olivetti chairman Carlo De Benedetti told the Olivetti annual meeting last week that the entry of new partners into Radiocor was planned, but he did not elaborate. Industry sources said they believed talks between Olivetti and Telerate had been taking place for some months. Olivetti acquired a 76 pct stake in Radiocor last December and has since increased its stake in the agency to 100 pct. The takeover was followed in May this year by the acquisiton by De Benedetti's French holding company <Cerus> of a stake of around 35 pct in the French financial information agency <Dafsa>. In May, Cerus also acquired a 4.9 pct stake in the British publishing and financial services group Pearson Plc <PSON.L>. REUTER \u0003\n",
      "AUTOSPA <LUBE.O> UNIT FORMS JOINT VENTURE Autospa Corp said its wholly owned Autospa Franchising Corp subsidiary entered into an agreement to form a joint venture for franchising Autospa Flat Proof Service Centers with Seal-It Corp, a private Los Angeles-based automotive aftermarket company. Under the agreement, AutoSpa Franchising and Seal-It each will hold 50 pct of the joint venture company shares. Reuter \u0003\n",
      "MARINE <MCRP.O> GETS MARSHALL/ILSLEY PROPOSAL Marine Corp said it received a proposal from Marshall and Ilsley Corp <MRIS.O> under which Marine shareholders would receive Marshall and Ilsley common stock or a combination of cash and stock equal to at least 62.50 dlrs a share of Marine common. It said the proposal will be considered by the Marine board after analysis by its advisers. Reuter \u0003\n",
      "MICRON <PMR> WILL ACQUIRE NUMEDCO Micron Products Inc said it has agreed to acquire Numedco Inc from <Myraid Group Inc> for 500,000 Micron common shares, 2,400 shares of 1,000 dlrs par value preferred and an undisclosed amount of cash. The company said the acquisition has been approved by Micron and Myraid directors and is subject to approval by shareholders of both companies. Micron now has about 1.9 mln common outstanding. Numedco could increase Micron's sales by 800 pct and its earnings by 100 pct, it said. In the nine months ended March 31, it earned 269,000 dlrs on sales of 2.7 mln dlrs. Reuter \u0003\n",
      "FIRST CHICAGO BANKING UNIT TO BUY INTEREST IN INVESTMENT\n",
      "BANKER WOOD GUNDY\n",
      "\n",
      " \n",
      "FIRST CHICAGO <FNB> TO BUY WOOD GUNDY STAKE First Chicago Corp said its First National Bank of Chicago subsidiary agreed in principle to acquire a 35 pct interest in Wood Gundy Corp, an international investment banking firm headquartered in Toronto. Under terms of the agreement, the bank, through its Canadian bank subsidiary, First National Bank of Chicago (Canada) will invest 271 mln canadian dlrs in a combination of newly issued common equity and convertible debentures of Wood Gundy, it said. First Chicago said it also agreed to invest additional funds jointly with Wood Gundy in venture capital and merchant banking businesses. Wood Gundy shareholders will retain 65 pct ownership, it said. First Chicago said its investment in Wood Gundy is consistent with recent legislation which removed ownership restrictions and broadened access to the Canadian securities industry. The proposed agreement is subject to approval of U.S. and Canadian regulatory agencies and completion of a definitive agreement. The transaction is expected to be completed on September 30, 1987, or as soon as possible thereafter, it added. First Chicago said the investment in Wood Gundy permits it to consolidate and enhance its present position in Canada and internationally, and provides the basis for future growth. Reuter \u0003\n",
      "PULLMAN<PMN> COMPLETES CLEVITE <CLEV.O> TENDER Pullman Co said its PCII Acquisition Co subsidiary completed a previously announced tender for Clevite Industries Inc. Pullman said as of midnight June 26, 5,248,712 shares of Clevite common, 278,965 shares of nonvoting common and 1,913,194 warrants had been tendered. Including the 989,426 shares of nonvoting common stock Pullman has an option to buy from Prudential Insurance Co of America, the total shares and warrants represent about 99 pct of the common and nonvoting common of Clevite and 96 pct of the outstanding warrants. Reuter \u0003\n",
      "FIRST CHICAGO <FNB> TO BUY WOOD GUNDY STAKE First Chicago Corp said its First National Bank of Chicago subsidiary agreed in principle to acquire a 35 pct interest in Wood Gundy Corp, an international investment banking firm headquartered in Toronto. Under the agreement, the bank, through its Canadian bank subsidiary, First National Bank of Chicago (Canada) will invest 271 mln canadian dlrs in a combination of newly issued common equity and convertible debentures of Wood Gundy. First Chicago also agreed to invest additional funds jointly with Wood Gundy in venture capital and merchant banking businesses. Wood Gundy shareholders will retain 65 pct ownership. Reuter \u0003\n",
      "AMEV HOLDINGS TO SELL UNIT TO USA FINANCIAL AMEV Holdings Inc, the New York-based operating arm of NV AMEV <AMEV.AS> in The Netherlands and parent company of Security Mutual Finance Corp, said it reached a definitive agreement to sell Security Mutual to USA Financial Services Inc. Security Mutual, based in Decatur, Ala., operates 33 loan offices in fourh Southeastern states and has 90 mln dlrs in receivables outstanding. USA Financial is a subsidiary of Chicago-based United Savings of America. Reuter \u0003\n",
      "PGI-HOUTEX BUYS 80 PCT OF SEIS PROS <SEI> PGI-Houtex, a private Houston company, said it bought about 80 pct of the common stock of Seis Pros Inc at 2.85 dlrs a share from the founding stockholders. It said the total price for the 3,100,100 shares was 8,835,285 dlrs. Completion of the merger transaction is expected in three to four months. Reuter \u0003\n",
      "CORE-MARK <CMK.TO> TO SELL FAST FOOD UNIT Core-Mark International Inc said it agreed to sell the assets of its fast food subsidiary Sandy's Fast 'N Fresh to a subsidiary of Vista Group Ltd, a Los Angeles based investment banking firm. Core-Mark said undisclosed proceeds from the sale would be about 80 pct cash and 20 pct note. Part of the proceeds will be used to pay off existing bank lines of credit, the company said. Reuter \u0003\n",
      "GENCORP BOARD WITHDRAWS PROPOSALS TO STAGGER DIRECTORS TERMS\n",
      " \n",
      "BENETTON IN FINANCIAL SERVICES JOINT VENTURE Benetton Group Spa [BTOM.MI] said it reached agreement with textiles concern [GFT-Gruppo Finanziario Tessile Spa] for a joint venture in the financial services sector. A Benetton spokeswoman said details of the accord would be outlined at a news conference on Thursday in Milan. The Italian clothing group has targeted financial services as a sector in which to expand its activities. In January, Benetton acquired a large minority stake in the Italian unit of the U.K. Financial services group Prudential Corp PLC [PRUL.L]. Reuter \u0003\n",
      "IRISH OIL CONCERN HAS 8.5 PCT OF CYNERGY <CRG> Bryson Oil and Gas Plc, a Belfast, Northern Ireland, oil company, said it has acquired an 8.5 pct stake in Cynergy Corp and took steps to help it consider the possibility of seeking control or influencing the company. In a filing with the Securities and Exchange Commission in which it disclosed its stake, Bryson said it also asked Cynergy for a list shareholder list in case it decided to communicate with the holders. Shareholder information would be vital to anyone planning a tender offer and is commonly requested by individuals or groups mulling takeover attempts. Bryson told the SEC it may review the feasibility of trying to influence the management policies of Cynergy, or of trying to gain control of the company through representation on its board of directors. A shareholder list would also be necessary for a group trying to mount a campaign for the election of directors. Bryson, which said it has retained D.F. King and Co Inc to work on its Cynergy dealings, said it bought 841,887 Cynergy common shares for 5.4 mln dlrs to gain an \"equity position\" in the company. Last week, Texas developer James Sowell told the SEC he sold his entire 823,387-share stake in the company. Reuter \u0003\n",
      "CHURCHILL TO MARKET WESTERN UNION <WU> SERVICES <Churchill Communications Corp> said it signed an agreement under which it will sell and service Western Union Corp's telex, electronic mail and long distance services to customers not directly assigned to Western Union representatives. Churchill, a privately held firm that processes electronic mail services, said the agreement extends for two years, with options for renewal. Reuter \u0003\n",
      "NACCO INDUSTRIES <NC> UNIT TO BE SOLD Nacco Industries Inc said a group of utilities, called the Capco group, has taken actions to exercise its option to acquire the Quarto Mining Co unit of Nacco's North American Coal Co. The purchase would be for about 10 mln dlrs, and would, if completed, generate a substantial capital gain for Nacco, the company said. The price is equal to the value of coal reserves contributed to Quarto by North American Coal. In 1986, Quarto produced about 3.6 mln tons of coal and net earnings of 5.9 mln dlrs, Nacco said. Capco is a group of utilities that includes Ohio Edison Co <OEC> and Centerior Energy Corp <CX>. Reuter \u0003\n",
      "BANKEAST CORP <BENH> COMPLETES ACQUISITION BankEast Corp said it has completed the acquisition of United Banks Corp in an exchange of 1.86 BankEast shares for each United share. It said the acquisition is worth about 11.3 mln dlrs. Reuter \u0003\n",
      "BANNER <BNR> TO ACCEPT REXNORD <REX> SHARES Banner Industries Inc said it plans to accept for payment after the close of business today all the common shares of Rexnord Inc that were tendered under its 26.25 dlr per share tender offer. Banner said its offer for all of the roughly 20 mln shares of Rexnord it did not already own expired last Friday and will not be extended. Based on a preliminary count, about 19.8 mln Rexnord shares were tendered under the offer, Banner said. Combined with the roughly five mln shares it already holds, Banner said it will own about 97 pct of Rexnord's shares. Banner said last Friday that it had arranged bank credit to finance most of the tender offer and the subsequent merger with Rexnord, under which remaining Rexnord holders may receive 26.25 dlrs a share. It said the balace of the funds will be obtained through a private placement, for which Drexel Burnham Lambert Inc is acting as agent. Banner said it expects to complete the merger with Rexnord within 60 days. Reuter \u0003\n",
      "AMERICAN NURSERY <ANSY> MAKES ACQUISITION American Nursery Products Inc said it has purchased Heini's Nursery Inc of Miami, which grows indoor foliage plants for wholesale distribution and had sales of 4,472,0000 dlrs for the year ended August 31. Terms were not disclosed. Reuter \u0003\n",
      "INSPEECH <INSP> MAKES ACQUISITIONS InSpeech Inc said it has acquired Northwest Rehabilitation Inc and Len M. House and Associates and United Rehabilitation Inc for undisclosed terms. Northwest provides physical therapy services and has annual sales of about six mln dlrs and Houyse provides speech therapy services and has annual sales of about 4000,000 dlrs. Both are based in Minneapolis. Reuter \u0003\n",
      "BAYER <BAYRY> MAKES U.S. ACQUISITION Bayer AG of West Germany said it has acquired Wyrough and Loser Inc of Trenton, a maker of rubbr processing chemicals, for undisclosed terms. It said its Mobay Corp subsidiary will transfer its entire U.S. Rhein-Chemie Rheinau GmbH specialty chemicals business for the rubber, plastics and lube oil industries to Wyrough and Loser later this year. Reuter \u0003\n"
     ]
    }
   ],
   "source": [
    "c = 0\n",
    "for i in range(len(test_data)):\n",
    "    if(stats['predict'][i] == 1):\n",
    "        c = c + 1\n",
    "        print(test_data[i])"
   ]
  },
  {
   "cell_type": "code",
   "execution_count": null,
   "metadata": {
    "collapsed": false
   },
   "outputs": [],
   "source": []
  },
  {
   "cell_type": "code",
   "execution_count": null,
   "metadata": {
    "collapsed": true
   },
   "outputs": [],
   "source": []
  },
  {
   "cell_type": "code",
   "execution_count": null,
   "metadata": {
    "collapsed": true
   },
   "outputs": [],
   "source": []
  },
  {
   "cell_type": "code",
   "execution_count": 55,
   "metadata": {
    "collapsed": true
   },
   "outputs": [],
   "source": [
    "result = []\n",
    "for i in positive_class:\n",
    "    data_streamer = ReutersStreamReader('reuters').iterdocs()\n",
    "    minibatch_size = 100\n",
    "    minibatch_iterators = iter_minibatchs(data_streamer, minibatch_size, i)\n",
    "    model, stats = sc.parallelize(minibatch_iterators).map(lambda batch: learn(classifier, stats, batch)).reduce(lambda l, r: merge(l, r))\n",
    "    result.append(stats)"
   ]
  },
  {
   "cell_type": "code",
   "execution_count": null,
   "metadata": {
    "collapsed": true
   },
   "outputs": [],
   "source": [
    "##print all acq"
   ]
  },
  {
   "cell_type": "code",
   "execution_count": 56,
   "metadata": {
    "collapsed": false,
    "scrolled": true
   },
   "outputs": [
    {
     "name": "stdout",
     "output_type": "stream",
     "text": [
      "ALLIED-SIGNAL SAID IT SOLD MPB CORP FOR 145 MLN DLRS, ASSUMPTION OF DEBT\n",
      " \n",
      "MERRILL LYNCH SAYS IT FIRED NAHUM VASKEVITCH\n",
      " \n",
      " ALUSUISSE SAYS IT PLANS 50 PCT CAPITAL CUT\n",
      " \n",
      "CHRYSLER SAYS IT SOLD 405 MLN DLRS OF CORPORATE BONDS TO INVESTMENT BANKERS\n",
      " \n",
      "AMERICAN EXPRESS SAYS IT IS CONFIDENT OF ITS OPERATIONS\n",
      " \n",
      "CHASE MANHATTAN SAID IT BOUGHT ATLANTIC FINANCIAL FEDERAL PORTFOLIO FOR 370 MLN DLRS\n",
      " \n",
      "CHRYSLER CORP SAID IT IS ACCELERATING ITS STOCK REPURCHASE PROGRAM\n",
      " \n",
      "ALLEGIS SAID IT IS CREATING A LIMITED PARTNERSHIP TO SELL SOME CANADIAN HOTELS\n",
      " \n",
      "ALLEGIS SAID IT SEES PROCEEDS OF 350 MLN CANADIAN DLRS WHEN HOTELS ARE SOLD\n",
      " \n",
      "HOSPITAL CORP OF AMERICA <HCA> GETS MERGER BID Hospital Corp of America said it received a letter today from an investor group offering to buy the company for 47 dlrs a share. Based on 82 mln outstanding shares, the offer is worth about 3.85 billion dlrs. But the company said that it would take more than five billion dlrs to consummate the merger and retire certain company debt. It said it does not believe the offer is in the best interest of shareholders, but added that it is referring the matter to its board for discussions and would respond in due course. Hospital Corp of America said the letter was sent by Charles Miller and Richard Ragsdale, two former officers of <Republic Health Corp>, and Richard Scott, a partner in a Dallas law firm. The investors' letter stated that based on discussions with several major financial institutions they were confident financing for the transaction could be arranged, Hospital Corp of America said. But it said the letter did not indicate that the investors had made arrangements to obtain financing. It said no further significant details were outlined in the letter. Hospital Corp of America, a manager and owner of hospitals, earned 174.6 mln dlrs or 2.08 dlrs a share, on revenues of 4.93 billion dlrs in 1986. Reuter \u0003\n",
      "CYACQ ENDS TENDER FOR CYCLOPS, DIXONS AND AUDIO/VIDEO DISMISS LITIGATION\n",
      " \n",
      "GENCORP SAID IT IS DEVELOPING SUPERIOR ALTERNATIVE TO AFG'S 100 DLR/SHR OFFER\n",
      " \n",
      "REED'S CHAIRMAN DENIES BID RUMORS\n",
      " \n",
      "MARINE CORP SAYS MARSHALL AND ILLSLEY MADE AN OFFER\n",
      "VALUED AT 62.50 DLRS A SHR\n",
      "\n",
      " \n",
      "OLIVETTI SEEKS TO STRENGTHEN RADIOCOR BUSINESS Ing C Olivetti EC SpA <OLIV.MI> is in contact with Telerate Inc <TLR> of the U.S. And other, unidentifed groups with a view to strengthening its economic news agency business <Radiocor - Agenzia Giornalistica Economica Finanziaria SRL>, an Olivetti spokesman said. The spokesman was responding to a Reuters query following an item in the Milan weekly Milano Finanza saying Dow Jones and Co Inc <DJ>, which has a controlling stake in Telerate, could become a partner in Radiocor through subscribing to a capital increase. The spokesman said that Telerate was among many companies with which Olivetti was in contact, with a view to strengthening Radiocor through the entry into the business of new partners, but that no accord had been reached. He declined to identify the other companies involved, but Milano Finanza named the owners of the Italian financial daily Il Sole 24-Ore and <Societa Elenchi Ufficiali degli Abbonati al Telefono> as likely partners along with Telerate. Olivetti last month announced a joint information technology deal with Societa Elenchi, which specialises in publishing telephone and city directories, and the Italian publishing group <L'Espresso>. Olivetti chairman Carlo De Benedetti told the Olivetti annual meeting last week that the entry of new partners into Radiocor was planned, but he did not elaborate. Industry sources said they believed talks between Olivetti and Telerate had been taking place for some months. Olivetti acquired a 76 pct stake in Radiocor last December and has since increased its stake in the agency to 100 pct. The takeover was followed in May this year by the acquisiton by De Benedetti's French holding company <Cerus> of a stake of around 35 pct in the French financial information agency <Dafsa>. In May, Cerus also acquired a 4.9 pct stake in the British publishing and financial services group Pearson Plc <PSON.L>. REUTER \u0003\n",
      "AUTOSPA <LUBE.O> UNIT FORMS JOINT VENTURE Autospa Corp said its wholly owned Autospa Franchising Corp subsidiary entered into an agreement to form a joint venture for franchising Autospa Flat Proof Service Centers with Seal-It Corp, a private Los Angeles-based automotive aftermarket company. Under the agreement, AutoSpa Franchising and Seal-It each will hold 50 pct of the joint venture company shares. Reuter \u0003\n",
      "MARINE <MCRP.O> GETS MARSHALL/ILSLEY PROPOSAL Marine Corp said it received a proposal from Marshall and Ilsley Corp <MRIS.O> under which Marine shareholders would receive Marshall and Ilsley common stock or a combination of cash and stock equal to at least 62.50 dlrs a share of Marine common. It said the proposal will be considered by the Marine board after analysis by its advisers. Reuter \u0003\n",
      "MICRON <PMR> WILL ACQUIRE NUMEDCO Micron Products Inc said it has agreed to acquire Numedco Inc from <Myraid Group Inc> for 500,000 Micron common shares, 2,400 shares of 1,000 dlrs par value preferred and an undisclosed amount of cash. The company said the acquisition has been approved by Micron and Myraid directors and is subject to approval by shareholders of both companies. Micron now has about 1.9 mln common outstanding. Numedco could increase Micron's sales by 800 pct and its earnings by 100 pct, it said. In the nine months ended March 31, it earned 269,000 dlrs on sales of 2.7 mln dlrs. Reuter \u0003\n",
      "FIRST CHICAGO BANKING UNIT TO BUY INTEREST IN INVESTMENT\n",
      "BANKER WOOD GUNDY\n",
      "\n",
      " \n",
      "FIRST CHICAGO <FNB> TO BUY WOOD GUNDY STAKE First Chicago Corp said its First National Bank of Chicago subsidiary agreed in principle to acquire a 35 pct interest in Wood Gundy Corp, an international investment banking firm headquartered in Toronto. Under terms of the agreement, the bank, through its Canadian bank subsidiary, First National Bank of Chicago (Canada) will invest 271 mln canadian dlrs in a combination of newly issued common equity and convertible debentures of Wood Gundy, it said. First Chicago said it also agreed to invest additional funds jointly with Wood Gundy in venture capital and merchant banking businesses. Wood Gundy shareholders will retain 65 pct ownership, it said. First Chicago said its investment in Wood Gundy is consistent with recent legislation which removed ownership restrictions and broadened access to the Canadian securities industry. The proposed agreement is subject to approval of U.S. and Canadian regulatory agencies and completion of a definitive agreement. The transaction is expected to be completed on September 30, 1987, or as soon as possible thereafter, it added. First Chicago said the investment in Wood Gundy permits it to consolidate and enhance its present position in Canada and internationally, and provides the basis for future growth. Reuter \u0003\n",
      "PULLMAN<PMN> COMPLETES CLEVITE <CLEV.O> TENDER Pullman Co said its PCII Acquisition Co subsidiary completed a previously announced tender for Clevite Industries Inc. Pullman said as of midnight June 26, 5,248,712 shares of Clevite common, 278,965 shares of nonvoting common and 1,913,194 warrants had been tendered. Including the 989,426 shares of nonvoting common stock Pullman has an option to buy from Prudential Insurance Co of America, the total shares and warrants represent about 99 pct of the common and nonvoting common of Clevite and 96 pct of the outstanding warrants. Reuter \u0003\n",
      "FIRST CHICAGO <FNB> TO BUY WOOD GUNDY STAKE First Chicago Corp said its First National Bank of Chicago subsidiary agreed in principle to acquire a 35 pct interest in Wood Gundy Corp, an international investment banking firm headquartered in Toronto. Under the agreement, the bank, through its Canadian bank subsidiary, First National Bank of Chicago (Canada) will invest 271 mln canadian dlrs in a combination of newly issued common equity and convertible debentures of Wood Gundy. First Chicago also agreed to invest additional funds jointly with Wood Gundy in venture capital and merchant banking businesses. Wood Gundy shareholders will retain 65 pct ownership. Reuter \u0003\n",
      "AMEV HOLDINGS TO SELL UNIT TO USA FINANCIAL AMEV Holdings Inc, the New York-based operating arm of NV AMEV <AMEV.AS> in The Netherlands and parent company of Security Mutual Finance Corp, said it reached a definitive agreement to sell Security Mutual to USA Financial Services Inc. Security Mutual, based in Decatur, Ala., operates 33 loan offices in fourh Southeastern states and has 90 mln dlrs in receivables outstanding. USA Financial is a subsidiary of Chicago-based United Savings of America. Reuter \u0003\n",
      "PGI-HOUTEX BUYS 80 PCT OF SEIS PROS <SEI> PGI-Houtex, a private Houston company, said it bought about 80 pct of the common stock of Seis Pros Inc at 2.85 dlrs a share from the founding stockholders. It said the total price for the 3,100,100 shares was 8,835,285 dlrs. Completion of the merger transaction is expected in three to four months. Reuter \u0003\n",
      "CORE-MARK <CMK.TO> TO SELL FAST FOOD UNIT Core-Mark International Inc said it agreed to sell the assets of its fast food subsidiary Sandy's Fast 'N Fresh to a subsidiary of Vista Group Ltd, a Los Angeles based investment banking firm. Core-Mark said undisclosed proceeds from the sale would be about 80 pct cash and 20 pct note. Part of the proceeds will be used to pay off existing bank lines of credit, the company said. Reuter \u0003\n",
      "GENCORP BOARD WITHDRAWS PROPOSALS TO STAGGER DIRECTORS TERMS\n",
      " \n",
      "BENETTON IN FINANCIAL SERVICES JOINT VENTURE Benetton Group Spa [BTOM.MI] said it reached agreement with textiles concern [GFT-Gruppo Finanziario Tessile Spa] for a joint venture in the financial services sector. A Benetton spokeswoman said details of the accord would be outlined at a news conference on Thursday in Milan. The Italian clothing group has targeted financial services as a sector in which to expand its activities. In January, Benetton acquired a large minority stake in the Italian unit of the U.K. Financial services group Prudential Corp PLC [PRUL.L]. Reuter \u0003\n",
      "IRISH OIL CONCERN HAS 8.5 PCT OF CYNERGY <CRG> Bryson Oil and Gas Plc, a Belfast, Northern Ireland, oil company, said it has acquired an 8.5 pct stake in Cynergy Corp and took steps to help it consider the possibility of seeking control or influencing the company. In a filing with the Securities and Exchange Commission in which it disclosed its stake, Bryson said it also asked Cynergy for a list shareholder list in case it decided to communicate with the holders. Shareholder information would be vital to anyone planning a tender offer and is commonly requested by individuals or groups mulling takeover attempts. Bryson told the SEC it may review the feasibility of trying to influence the management policies of Cynergy, or of trying to gain control of the company through representation on its board of directors. A shareholder list would also be necessary for a group trying to mount a campaign for the election of directors. Bryson, which said it has retained D.F. King and Co Inc to work on its Cynergy dealings, said it bought 841,887 Cynergy common shares for 5.4 mln dlrs to gain an \"equity position\" in the company. Last week, Texas developer James Sowell told the SEC he sold his entire 823,387-share stake in the company. Reuter \u0003\n",
      "CHURCHILL TO MARKET WESTERN UNION <WU> SERVICES <Churchill Communications Corp> said it signed an agreement under which it will sell and service Western Union Corp's telex, electronic mail and long distance services to customers not directly assigned to Western Union representatives. Churchill, a privately held firm that processes electronic mail services, said the agreement extends for two years, with options for renewal. Reuter \u0003\n",
      "NACCO INDUSTRIES <NC> UNIT TO BE SOLD Nacco Industries Inc said a group of utilities, called the Capco group, has taken actions to exercise its option to acquire the Quarto Mining Co unit of Nacco's North American Coal Co. The purchase would be for about 10 mln dlrs, and would, if completed, generate a substantial capital gain for Nacco, the company said. The price is equal to the value of coal reserves contributed to Quarto by North American Coal. In 1986, Quarto produced about 3.6 mln tons of coal and net earnings of 5.9 mln dlrs, Nacco said. Capco is a group of utilities that includes Ohio Edison Co <OEC> and Centerior Energy Corp <CX>. Reuter \u0003\n",
      "BANKEAST CORP <BENH> COMPLETES ACQUISITION BankEast Corp said it has completed the acquisition of United Banks Corp in an exchange of 1.86 BankEast shares for each United share. It said the acquisition is worth about 11.3 mln dlrs. Reuter \u0003\n",
      "BANNER <BNR> TO ACCEPT REXNORD <REX> SHARES Banner Industries Inc said it plans to accept for payment after the close of business today all the common shares of Rexnord Inc that were tendered under its 26.25 dlr per share tender offer. Banner said its offer for all of the roughly 20 mln shares of Rexnord it did not already own expired last Friday and will not be extended. Based on a preliminary count, about 19.8 mln Rexnord shares were tendered under the offer, Banner said. Combined with the roughly five mln shares it already holds, Banner said it will own about 97 pct of Rexnord's shares. Banner said last Friday that it had arranged bank credit to finance most of the tender offer and the subsequent merger with Rexnord, under which remaining Rexnord holders may receive 26.25 dlrs a share. It said the balace of the funds will be obtained through a private placement, for which Drexel Burnham Lambert Inc is acting as agent. Banner said it expects to complete the merger with Rexnord within 60 days. Reuter \u0003\n",
      "AMERICAN NURSERY <ANSY> MAKES ACQUISITION American Nursery Products Inc said it has purchased Heini's Nursery Inc of Miami, which grows indoor foliage plants for wholesale distribution and had sales of 4,472,0000 dlrs for the year ended August 31. Terms were not disclosed. Reuter \u0003\n",
      "INSPEECH <INSP> MAKES ACQUISITIONS InSpeech Inc said it has acquired Northwest Rehabilitation Inc and Len M. House and Associates and United Rehabilitation Inc for undisclosed terms. Northwest provides physical therapy services and has annual sales of about six mln dlrs and Houyse provides speech therapy services and has annual sales of about 4000,000 dlrs. Both are based in Minneapolis. Reuter \u0003\n",
      "BAYER <BAYRY> MAKES U.S. ACQUISITION Bayer AG of West Germany said it has acquired Wyrough and Loser Inc of Trenton, a maker of rubbr processing chemicals, for undisclosed terms. It said its Mobay Corp subsidiary will transfer its entire U.S. Rhein-Chemie Rheinau GmbH specialty chemicals business for the rubber, plastics and lube oil industries to Wyrough and Loser later this year. Reuter \u0003\n"
     ]
    }
   ],
   "source": [
    "for i in range(len(test_data)):\n",
    "    if(result[0]['predict'][i] == 1):\n",
    "        print(test_data[i])"
   ]
  },
  {
   "cell_type": "code",
   "execution_count": 57,
   "metadata": {
    "collapsed": false,
    "scrolled": true
   },
   "outputs": [
    {
     "name": "stdout",
     "output_type": "stream",
     "text": [
      "KANSAS CITY SHIPMENTS AND RECEIPTS in bushels Truck Receipts Wheat 73,684 Corn 17,979 Grain Sorghum 4,391 Soybns 72,180 Truck Shipments Corn 8,000 Barge Shipments - None Reuter \u0003\n",
      "CBT CORN FUTURES HOLD GAINS AT MIDSESSION CBT corn futures held gains of two to 2-3/4 cents per bushel in moderately light midsession trade. Yesterday's sharp jump in the weekly corn export figure to about three times last year's weekly inspections, plus the outlook for a continued active export pace due to the decline in the U.S. dollar this year, supported nearbys, traders said. Diminished PIK-and-roll activity, compared with the active pace seen last week, added to the more positive tone. Most dealers expect the contract lows in corn futures to hold, with some looking for the improving chart picture to support a further advance. A local house, Cargill, the Illinois Co-op, Refco and ADM were the featured buyers of old crop May, with Drexel/Burnham a steady buyer in new crop December, pit brokers said. Reuter \u0003\n",
      "CBT CORN FUTURES CLOSE HIGHER ON FIRM NOTE CBT corn futures closed on or near the highs, up 1-1/4 to three cents per bushel, with May settling at 1.59-1/2 dlrs after posting a 1-1/2 cent range. Slow country movement, yesterday's sharp jump in the weekly corn export figure to about three times last year's weekly inspections, plus the outlook for a continued active export pace due to the decline in the U.S. dollar this year, supported nearbys, traders said. Many traders said they were mystified why Drexel Burnham was such an aggressive buyer today in new crop December. Farmers will probably plant as many acres as allowed under the government programs and near-record yields must be assumed at this time because they will aggressively apply fertilizer to prime yielding acres, one commercial trader noted. Reuter \u0003\n",
      "TOLEDO DELIVERABLE CORN STOCKS The CFTC reported the following stocks of corn in Toledo as of Friday, April 3 , deliverable against Chicago Board of Trade futures (in 000's bushels) - CURRENT WEEK YEAR WEEK AGO AGO DEL GRADES 14478 15326 17456 NON-DEL GRADES/UNGRADED 3903 4291 802 CCC STOCKS 9336 9198 2463 TOTAL CORN STOCKS 27717 28815 20721 Reuter \u0003\n",
      "ST LOUIS DELIVERABLE CORN STOCKS The CFTC reported the following stocks of corn in St Louis as of Friday, april 3 , deliverable against Chicago Board of Trade futures in 000's bushels - CURRENT WEEK YEAR WEEK AGO AGO DEL GRADES 640 225 369 NON-DEL GRADES/UNGRADED 0 0 25 CCC STOCKS 397 397 153 TOTAL CORN STOCKS 1037 622 547 Reuter \u0003\n",
      "NATIONAL AVERAGE PRICES FOR FARMER-OWNED RESERVE The U.S. Agriculture Department reported the farmer-owned reserve national five-day average price through April 7 as follows (Dlrs/Bu-Sorghum Cwt) - Natl Loan Release Call Avge Rate-X Level Price Price Wheat 2.63 2.40 IV 4.65 -- V 4.65 -- VI 4.45 -- Corn 1.38 1.92 IV 3.15 3.15 V 3.25 -- X - 1986 Rates. Natl Loan Release Call Avge Rate-X Level Price Price Oats 1.58 0.99 V 1.65 -- Barley 1.52 1.56 IV 2.55 2.55 V 2.65 -- Sorghum 2.53 3.25-Y IV 5.36 5.36 V 5.54 -- Reserves I, II and III have matured. Level IV reflects grain entered after Oct 6, 1981 for feedgrain and after July 23, 1981 for wheat. Level V wheat/barley after 5/14/82, corn/sorghum after 7/1/82. Level VI covers wheat entered after January 19, 1984. X-1986 rates. Y-dlrs per CWT (100 lbs). Reuter \u0003\n",
      "KANSAS CITY GULF EXPORT PRICES - USDA Gulf export prices for grain delivered to Gulf export elevators, barge to Louisiana Gulf, rail to Texas Gulf, prompt or 30 day shipment, dollar per bushel, except sorghum per cwt. WINTER WHEAT 1 HARD RED-Ordinary 308-3/4 dn 1-1/4 2 SOFT RED 313-3/4 dn 2-1/2 2 YEL CORN 180-1/2 up 1-1/4-dn 3/4 2 YEL SORGHUM 321-327 dn 2-up 4 2 YEL SOYBEANS 526-3/4-527-3/4 up 1-up 2 reuter \u0003\n",
      "HOG/CORN RATIO UP IN WEEK - USDA The hog/corn ratio for the week ended April 4 was 32.7 versus 32.1 the previous week and 17.1 in the corresponding week a year ago, the U.S. Agriculture Department said. The steer/corn ratio in the same week was 42.2, versus 41.2 the previous week and 22.9 in the corresponding week a year ago. The ratio represents the number of bushels of corn at Omaha that can be bought for 100 lbs of hog or steer. Reuter \u0003\n",
      "KANSAS CITY TRUCK PRICES - USDA FOR SUPPLIES DELIVERED TO K.C. WINTER WHEAT 1 Hard Red-- Ordinary Protein 288-292 dn 1 2 Soft Red 292-293 unch-dn 1 2 YELLOW CORN 158-160 up 2-unch 2 YELLOW SORGHUM 271-282 unch-up 3 1 YELLOW SOYBEANS 499-505 up 5 Reuter \u0003\n",
      "ASCS TERMINAL MARKET VALUES FOR PIK GRAIN The Agricultural Stabilization and Conservation Service (ASCS) has established these unit values for commodities offered from government stocks through redemption of Commodity Credit Corporation commodity certificates, effective through the next business day. Price per bushel is in U.S. dollars. Sorghum is priced per CWT, corn yellow grade only. WHEAT HRW HRS SRW SWW DURUM Chicago --- 3.03 3.24 --- --- Ill. Track --- --- 2.99 --- --- Toledo --- 3.03 3.04 2.99 --- Memphis --- --- 3.07 --- --- Peoria --- --- 2.96 --- --- HRW HRS SRW SWW DURUM Denver 2.65 2.66 --- --- --- Evansville --- --- 3.01 --- --- Cincinnati --- --- 2.99 --- --- Minneapolis 2.70 2.70 --- --- 3.80 Baltimore/ Norf./Phil. --- --- 3.07 2.92 --- Kansas City 2.98 --- 3.18 --- --- St. Louis 2.90 --- 2.90 --- --- Amarillo/ Lubbock 2.64 --- --- --- --- HRW HRS SRW SWW DURUM Lou. Gulf --- --- 3.17 --- --- Portland/ Seattle 3.11 3.12 --- 3.00 3.80 Stockton 2.71 --- --- --- --- L.A. 3.19 --- --- --- 4.20 Duluth 2.70 2.70 --- --- 3.80 Tex. Gulf 3.14 --- 3.17 --- --- CORN BRLY OATS RYE SOYB SORG Chicago 1.55 --- --- --- 5.01 2.63 Ill Track 1.58 2.04 --- --- 5.06 2.70 Toledo 1.55 2.04 1.55 --- 5.04 2.63 Memphis 1.64 1.95 1.76 --- 5.12 2.74 Peoria 1.59 --- --- --- 5.01 2.76 Denver 1.66 1.66 --- --- --- 2.76 Evnsvlle 1.63 2.04 1.55 2.02 5.07 2.77 Cinci 1.60 2.04 1.55 2.04 5.06 2.72 Mpls 1.49 1.75 1.55 1.70 4.92 --- Balt/Nor/ Phil 1.77 1.80 --- --- 5.24 3.04 CORN BRLY OATS RYE SOYB SORG KC 1.55 1.66 1.70 --- 4.94 2.71 St.Lo 1.62 --- 1.71 --- 5.07 2.89 Amarlo/ Lubbck 1.89 1.52 --- --- 4.90 3.17 Lou Gulf 1.81 --- --- --- 5.29 3.26 Port/ Seattle 1.96 2.11 1.55 --- --- --- Stockton 2.30 2.26 1.94 --- --- 3.95 LA 2.67 2.43 --- --- --- 4.58 Duluth 1.49 1.75 1.55 1.70 4.92 --- Tex Gulf 1.79 1.54 1.87 --- 5.29 3.22 Reuter \u0003\n",
      "FOB U.S. GULF CORN VALUES SLIGHTLY FIRMER FOB U.S. gulf corn values were slightly firmer as active gulf interest boosted gulf FOB and CIF values today, exporters said. Loading programs and relatively slow country movement kept gulf interest lively. There were indications that 50,000 tonnes traded for August shipment at 20 cents over September, that 50,000 tonnes traded yesterday for June at 20-1/2 cents over July, and that 25,000 tonnes of number three corn traded yesterday off the Atlantic at 23 over May for May 1-20. Hard wheat offers were firm amid tight pipeline supplies. Dealers quoted the following afternoon FOB U.S. gulf values, basis Chicago futures, except hard red winter wheat basis Kansas City. (In cents per bushel) Corn (Number three grade) April - 23 ov May bid, 26 offered. May - 23 ov May bid, 26 offered. June - 21 ov Jly bid, 23 offered. Soybeans L/H April - No bids, 26 ov May offered. May - No bids, 25 ov May offered. June - No bids, 26 ov Jly offered. HRW wheat April - No bids, 43 ov May offered. May - No bids, 43 ov May offered. June - No bids, 45 ov Jly offered. July - 35 ov Jly bid, 39 offered. August - 35 ov Sep bid, 39 offered. September - 36 ov Sep bid, 40 offered. SRW wheat March - No bids or offers. July - 15 ov Jly bid, 19 offered. August - 15 ov Sep bid, 19 offered. September - 16 ov Sep bid, 23 offered. Reuter \u0003\n",
      "NATIONAL AVERAGE PRICES FOR FARMER-OWNED RESERVE The U.S. Agriculture Department reported the farmer-owned reserve national five-day average price through April 6 as follows (Dlrs/Bu-Sorghum Cwt) - Natl Loan Release Call Avge Rate-X Level Price Price Wheat 2.64 2.40 IV 4.65 -- V 4.65 -- VI 4.45 -- Corn 1.40 1.92 IV 3.15 3.15 V 3.25 -- X - 1986 Rates. Natl Loan Release Call Avge Rate-X Level Price Price Oats 1.57 0.99 V 1.65 -- Barley 1.49 1.56 IV 2.55 2.55 V 2.65 -- Sorghum n.a. 3.25-Y IV 5.36 5.36 V 5.54 -- Reserves I, II and III have matured. Level IV reflects grain entered after Oct 6, 1981, for feedgrain and after July 23, 1981, for wheat. Level V wheat/barley after 5/14/82, corn/sorghum after 7/1/82. Level VI covers wheat entered after January 19, 1984. X-1986 rates. Y-dlrs per CWT (100 lbs). n.a.-not available. Reuter \u0003\n",
      "CBT CORN FUTURES EXPECTED STEADY TO FIRMER CBT corn futures were expected to open steady to firmer, supported by a much larger than expected weekly corn export inspection figure yesterday, traders said. Modest country movement will allow an initial advance. ---- Original holders of expired generic commodity certificates that expired from December 31, 1986, through March 31, 1987, may exchange the certificates for cash, the USDA said...The USDA reported U.S. soybean export inspections totalled 10,844,000 bushels in the week ended April 2, compared to 17,683,000 the previous week and 13,979,000 bushels in the year ago week, with wheat 16,363,000 bushels, 20,717,000 and 11,253,000 respectively and corn 46,652,000 bushels, 36,581,000 and 13,844,000 bushels respectively. Reuter \u0003\n",
      "CBT CORN FUTURES TRADE QUIETLY MIXED EARLY CBT corn futures traded firmer early, holding gains of 1-1/4 cents to 3/4 cent per bushel in moderately light early trade. Yesterday's sharp jump in the weekly corn export figure to about three times last year's weekly inspections, plus the outlook for a continued active export pace due to the decline in the U.S. dollar this year, supported nearbys, traders said. Cargill, the Illinois Co-op, Refco and ADM were the featured buyers of old crop May, with CIS a buyer in new crop December, pit brokers said. Reuter \u0003\n"
     ]
    }
   ],
   "source": [
    "for i in range(len(test_data)):\n",
    "    if(result[1]['predict'][i] == 1):\n",
    "        print(test_data[i])"
   ]
  },
  {
   "cell_type": "code",
   "execution_count": 58,
   "metadata": {
    "collapsed": false,
    "scrolled": true
   },
   "outputs": [
    {
     "name": "stdout",
     "output_type": "stream",
     "text": [
      "U.S. ENERGY FUTURES STEADY BUT QUIET U.S. energy futures traded consistently above yesterday's closing prices in thin activity this morning with underlying support from April 15-day forward North Sea Brent crude, traders said. April Brent traded as high as 19.40 dlrs a barrel today, or more than 1.00 dlr above May Brent prices, because of a supply squeeze, according to traders. \"U.S. energy futures are probably influenced by April Brent more than anything else today,\" said John O'Connell, assistant vice president at Refco, Inc. May crude was up 18 cts to 18.85 dlrs a barrel. \"There is no reason to sell energy futures at these prices because the fundamentals have not changed,\" said O'Connell, adding that the OPEC pricing/production accord continues to hold. Mixed trade participants dominated crude futures while local traders were featured in products, traders said. They said U.S. energy futures ran into resistance at today's highs. May heating oil was up 0.46 cent at 49.25 cts a gallon after trading within a narrow 0.30-cent range. May unleaded gasoline was up 0.61 cent to 53.55 cts a gallon, at the high end of a 0.35-cent range. Reuter \u0003\n",
      "LONDON OILS/SEEDS CLOSE QUIETLY MIXED Oils and oilseeds traded quietly this afternoon and price movements were marginally mixed. Dutch soyoil showed small gains with support coming from early mark-ups in Chicago soyoil futures. Firm Argentine markets maintained levels in the sunflowerseed oil section but palm oil tended to move off early highs due to lack of buying support and the reported rejection of rbd oil offers by Pakistan at its tender today. Demand for coconut oil and palm kernel oil faded and here again early gains were pared. Dutch soyoil traded at 65.50 guilders for May, rising to 71 for Nov/Jan deliveries ex-mill while any origin sunflowerseed oil sold at 346.50 dlrs for May/Jul and 357.50 for Aug/Oct call ex-tank Rotterdam. No fresh trade was reported for coconut oil or palm kernel oil and palm oil also met an idle afternoon. Among oilseeds, April deliveries of U.K. Rapeseed traded to Boston, U.K. East coast, at 297 stg per tonne. REUTER \u0003\n",
      "U.S. ENERGY FUTURES SETTLE WITH MODEST GAINS U.S. energy futures posted modest gains because of a supply squeeze in physical North Sea Brent crude oil and escalation of the Iran/Iraq war, traders and analysts said. May crude closed 17 cts higher to 18.84 dlrs. \"Energy futures were led by the 15-day forward Brent Crude market in Europe, said Robert Murphy, account executive at E.F. Hutton and Company Inc, adding, \"crude futures could jump above 19 dlrs a barrel but will not remain there long if products are not strong,\" he added. April Brent rose as high as 19.57 dlrs a barrel today. Traders said reports that Iran opened a new southern front and Iraq attacked Iranian oil fields were also supportive. Murphy said tonight's American Petroleum Institute report will need to show drawdowns in gasoline and distillate of two to four mln barrels each to support firmer crude prices. \"There is a lot of gasoline around,\" Murphy said. Following crude futures, May gasoline closed 0.33 cent higher at 53.27 cts a gallon after trading 8,700 contracts. May heating oil traded only 7,200 contracts and was up 0.45 cent at 49.24 cts. Reuter \u0003\n",
      "N.Y. OILSEEDS REPORT Dealers said very little business was done in local oilseeds markets. Coconut oil was nominally 18 cents a lb for April/May shipment, CIF, New York/Gulf, brokers said. Crude wet-milled corn oil, FOB, Midwest points, was nominally 20-3/4 cents a lb for nearby shipment. Based on that price, dealers said refined corn oil, FOB, New York, was nominally 27.15 cents a lb. Peanut oil remained offered at 24-1/2 cents a lb for nearby shipment but dealers said market interest was closer to 24 cents. Reuter \u0003\n",
      "C and D COMMODITIES DENIES FINANCIAL PROBLEMS BUT PULLING OUT OF OIL FUTURES MARKET.\n",
      " \n",
      "INTERNATIONAL SPOT OIL PRICES FIRM ON OPEC ACCORD OPEC's weekend decision to cut planned oil output levels for second half 1987 has renewed market confidence in the oil price outlook for the rest of the year and boosted international spot prices, oil traders said. Spot crude prices are now standing 80-85 cents a barrel higher than at the start of the OPEC meeting last Thursday and could continue their rise in the next few weeks, they said. The new optimism springs from the agreement reached by OPEC ministers in Vienna on Saturday to fix a July-December output ceiling of 16.6 mln barrels per day (bpd). At its previous meeting in December, OPEC set a provisional 16.6 mln bpd output limit for the third quarter but proposed a sharp rise to 18.3 mln in the fourth. The ceilings were to back up its newly restored fixed prices of around 18 dlrs a barrel. When signs first emerged last Friday that OPEC was contemplating cutting the planned fourth quarter ceiling, spot prices of the most widely traded crude oil, Britain's Brent Blend, surged 30-40 cents a barrel. Traders said the trend continued in a cautious rally this morning in London, taking quoted levels up to around 19.25/35 dlrs, compared with 18.45/50 dlrs in the middle of last week. Most traders on international oil markets reacted bullishly to news of the final agreement. They forecast tight supplies later in the year, when demand for oil increases with the onset of the Northern Hemisphere winter, and further rises in spot prices. \"There will be a scramble for oil in the third and fourth quarters of this year\" one trader said. \"In the past three months we have already seen a rise in demand, particularly from the U.S., And I expect to see even higher prices\" he added. Mehdi Varzi, analyst with stockbroker Kleinwort Grieveson in London, agreed. Varzi told Reuters that OPEC was if anything too cautious in setting the new output ceilings. \"There is now a great chance that Brent crude oil will hit 20 dlrs a barrel in the next month,\" he said. Laurie Law, analyst at E.F. Hutton and Co Inc in New York, said over the weekend that she saw the spot price of West Texas Intermediate (WTI) rallying to around 22 dlrs by the end of the year from just over 20 dlrs now. WTI, the U.S. Benchmark crude, usually fetches a premium of 80 cents to one dlr over Brent. So far this year, spot Brent has held mostly between 18 and 19 dlrs a barrel. But some traders, fearing continued over-production by some OPEC members, sounded a note of caution over the new accord. Iraq has again refused to be a party to the agreement because other OPEC ministers turned down its repeated demand for the same production quota as its Gulf War enemy Iraq. In recent months Iraq has been producing 500,000 bpd above its assigned quota, and it could begin pumping a further 500,000 bpd when a new export pipeline comes on stream in September. According to Kuwaiti oil minister Sheikh Ali al-Khalifa al-Sabah, actual OPEC production in the fourth quarter could be well above the official ceiling at nearly 18 mln bpd. REUTER \u0003\n",
      "MALAYSIAN CRUDE PALM OIL FUTURES CLOSE OFF HIGHS Malaysian crude palm oil futures closed off the day's highs on late speculative selling following talk that Pakistan passed on its tender for another 6,000 tonnes of RBD palm oil for second half April shipment after buying the same amount yesterday, dealers said. A higher overnight Chicago soyoil futures close had supported prices earlier, they said. June and July closed seven ringgit firmer at 746 and 742 ringgit per tonne respectively, while April and May were six and five ringgit higher at 747. Turnover rose to 448 lots from 135 yesterday. REUTER \u0003\n",
      "MALAYSIAN CRUDE PALM OIL CLOSES BELOW HIGHS Crude palm oil prices closed below the day's highs on late selling, prompted by talk that Pakistan passed on its tender for 6,000 tonnes of RBD palm oil for second half April shipment after having bought the same amount yesterday, dealers said. Pakistan's presence and steadier overnight Chicago soyoil futures supported the market initially, they added. April deliveries, south and central regions closed five higher at 752.50 and 750 ringgit per tonne respectively after highs of 757.50 while May south traded down to 750 from 755. The refined palm oil market saw some renewed interest, with prices also higher initially. May and June RBD palm olein traded earlier at 332.50 dlrs per tonne, and May RBD palm oil at 318. REUTER \u0003\n",
      "NYMEX FUTURES VOLUME/OPEN INTEREST FOR APRIL 6 in contracts) volume open change Platinum 4321 19120 off 173 Palladium 348 6895 off 45 Heating Oil 7167 45020 off 223 Crude Oil 29575 162578 off 3845 Unleaded Gas 6457 40390 off 948 REUTER \u0003\n",
      "U.S. ENERGY FUTURES CALLED SLIGHTLY HIGHER Traders expect U.S. energy futures will open higher, tracking firmer gasoil futures and cash crude markets. Also lending support, said traders, are reports that the Iran/Iraq war is heating up. Crude futures are called five to 10 cts higher with support from a squeeze in the April 15-day forward Brent crude market, which traded as high as 19.40 dlrs a barrel today, and from domestic grades, trading unchanged to seven cts higher, traders said. Iraq said today it attacked Iran's Sirri Island as well as offshore oil escalations west of Kharg Island. Iran meanwhile reported victories on the southern front in its war with Iraq. These reports may support the market, which is \"begging for news,\" said one broker. He said resistance is at 18.75-18.85 dlrs, then 19.00 dlrs a barrel for May crude. Products are called 0.25-0.50 cent higher a gallon following gasoil futures which ended the morning session 1.25 dlrs higher a tonne basis April, which expired today, and 1.00 dlr higher basis May, traders said. Reuter \u0003\n",
      "U.S. ENERGY FUTURES POST GAINS AFTER FIRM OPEN Light mixed buying around the rings boosted U.S. energy futures to new daily highs after a slightly firmer open, traders said. May crude jumped 15 cts to 18.82 dlrs a barrel, nearing the top end of a 17.75-18.85 dlrs resistance range. Traders said firmness in the North Sea Brent cash crude market plus reports of escalation in the Iran/Iraq war lent support to crude futures. April 15-day forward Brent crude traded as high as 19.40 dlrs a barrel today. Traders said resistance continues overhead near 19.00 dlrs a barrel for May crude futures. Gasoline continued to post larger gains than heating oil and to trade at a premium to two oil futures. May gasoline was up 0.56 cent to 53.50 cts a gallon, at resistance. May heating oil was up 0.36 cent to 49.15 cts a gallon. Both contracts were off 0.05 cent from this morning's high. Reuter \u0003\n",
      "OPEC PRESIDENT SAYS OIL MARKET BEING MANIPULATED OPEC president Rilwanu Lukman accused \"oil market manipulators\" of drawing down their own stocks and spreading rumours to give the impression OPEC was breaking its 15.8 mln barrels per day output ceiling, set last December. Lukman told reporters the aim was to pull prices below the 18 dlrs per barrel reference level set by OPEC. \"People are playing a waiting game to test the will of OPEC by drawing down more on their stock than normal, and this is having the effect of giving an apparent excess supply on the market which we know is not real,\" Lukman said. Lukman, Nigeria's oil minister, said that despite probable \"minor deviations\" by one or two member countries, \"basically OPEC is producing around what it said it would produce.\" After OPEC's price and production accord last December, the market firmed steadily but spot prices fell in the last week to around 16 dlrs. Industry reports estimated the organization was producing up to one mln bpd above its ceiling during February. But Lukman was confident OPEC would maintain its discipline, in view of past experience. \"We have the experience of what happened in 1986 behind us, when violations of agreements led to the collapse of the market,\" he said. Lukman was in Kingston as a guest of the state-owned Petroleum Corp of Jamaica. REUTER \u0003\n",
      "GULF ARAB OIL MEETING ENDS Deputy oil ministers of the six-nation Gulf Co-operation Council (GCC) ended a meeting here after discussing co-ordination and co-operation in the oil field, the Bahrain-based Gulf News Agency (GNA) said. The deputy ministers, who declined to talk to reporters on the outcome of the 90 minute formal session, later concluded a round of informal talks. The GCC groups four OPEC members -- Saudi Arabia, Kuwait, Qatar and the United Arab Emirates -- and non-OPEC nations Bahrain and Oman. Before the formal session had begun, chairman Yousef Shirawi, Bahrain's Development and Industry Minister, told reporters the gathering was a follow-up to talks held last Sunday in Qatar at full ministerial level. GNA gave no details on the outcome of today's talks. It said only, \"The deputy ministers discussed current developments in the oil market, particularly those relating to production and prices.\" The meeting in Qatar had reaffirmed the six Gulf Arab countries' commitment to OPEC's pricing and production accord forged in December last year. It also discussed ways of marketing crude oil on behalf of those GCC states encountering resistance to official OPEC prices. Oil industry sources have said Qatar has faced particular difficulty in selling its full quota of production. Reuter \u0003\n",
      "MOODY'S MAY DOWNGRADE BRITISH PETROLEUM AND STANDARD OIL \n",
      " \n"
     ]
    }
   ],
   "source": [
    "for i in range(len(test_data)):\n",
    "    if(result[2]['predict'][i] == 1):\n",
    "        print(test_data[i])"
   ]
  },
  {
   "cell_type": "code",
   "execution_count": 59,
   "metadata": {
    "collapsed": false,
    "scrolled": true
   },
   "outputs": [
    {
     "name": "stdout",
     "output_type": "stream",
     "text": [
      "Toshiba group net 34.18 billion yen (59.44 billion) year to March 31\n",
      " \n",
      "WHITTAKER CORP 2nd QTR SHR PROFIT 37 CTS VS LOSS 35 CTS\n",
      " \n",
      "SECURITY PACIFIC EXPECTS 175 MLN DLR LOSS IN QTR AS RESULT OF LOSS PROVISION\n",
      " \n",
      "Fujitsu Ltd group net profit 21.61 billion yen vs 38.93 billion (year to Mar 31)\n",
      " \n",
      "S/P AFFIRMS W.R. GRACE AND CO'S 575 MLN DLRS OF DEBT AFTER ITS 4TH-QTR LOSS\n",
      " \n",
      "K MART SEES 1987 SALES OF 26 BILLION DLRS, UP FROM 23.8 BILLION IN 1986\n",
      " \n",
      "CITYFED FINANCIAL CORP SAYS IT CUT QTRLY DIVIDEND TO ONE CENT FROM 10 CTS/SHR\n",
      " \n",
      "PAINEWEBBER GROUP INC 3RD QTR SHARE 44 CTS VS 71 CTS\n",
      " \n",
      "NEW YORK TIMES CO 3RD QTR SHR 40 CTS VS 33 CTS\n",
      " \n",
      "BELLSOUTH CORP 3RD QTR SHR 87 CTS VS 84 CTS\n",
      " \n",
      "FIRST BOSTON INC 3RD QTR SHR 1.15 DLRS VS 76 CTS\n",
      " \n",
      "TRW INC 3RD QTR SHR 1.01 DLRS VS 66 CTS\n",
      " \n",
      "CATERPILLAR INC SEES HIGHER FISCAL 1987 EARNINGS\n",
      " \n",
      "CATERPILLAR INC 3RD QTR SHR 1.47 DLRS VS LOSS 26 CTS\n",
      " \n",
      "FEDERAL-MOGUL CORP 3RD QTR SHR 66 CTS VS 48 CTS\n",
      " \n",
      "DIME SAVINGS BANK OF NEW YORK 3RD QTR NET 27.8 MLN DLRS 28.6 MLN DLRS\n",
      " \n",
      "AIR PRODUCTS AND CHEMICALS INC 4TH QTR OPER SHR 70 CTS VS 18 CTS\n",
      " \n",
      "KEYCORP 3RD QTR SHR 85 CTS VS 77 CTS\n",
      " \n",
      "TEMPLE-INLAND INC 3RD QTR SHR 1.24 DLRS VS 66 CTS\n",
      " \n",
      "ALLIED-SIGNAL INC 3RD QTR OPER SHR 1.02 DLRS VS 82 CTS\n",
      " \n",
      "MARTIN MARIETTA CORP 3RD QTR SHR 1.02 DLRS VS 96 CTS\n",
      " \n",
      "NEIMAN-MARCUS GROUP 2ND QTR NET LOSS 69.0 MLN VS PROFIT 3,682,000\n",
      " \n",
      "STERLING DRUG INC 3RD QTR SHR 1.03 DLRS VS 88 CTS\n",
      " \n",
      "MCI COMMUNICATIONS CORP 3RD QTR PER SHR EIGHT CTS VS SIX CTS\n",
      " \n",
      "AMERICAN TELEPHONE AND TELEGRAPH CO 3RD QTR SHR 47 CTS VS 48 CTS\n",
      " \n",
      "MIDDLE SOUTH UTILITIES INC 3RD QTR SHR 90 CTS VS 84 CTS\n",
      " \n",
      "ROHM AND HAAS CO 3RD QTR SHR 57 CTS VS 54 CTS\n",
      " \n",
      "MONSANTO CO 3RD QTR SHR 1.30 DLRS VS 1.85 DLRS\n",
      " \n",
      "UNISYS CORP 3RD QTR SHR 65 CTS VS 34 CTS\n",
      " \n",
      "FINANCIAL CORP OF AMERICA 3RD QTR SHR LOSS 2.20 DLRS VS PROFIT 24 CTS\n",
      " \n",
      "BELL ATLANTIC CORP 3RD QTR SHR 1.62 DLRS VS 1.49 DLRS\n",
      " \n",
      "J.P. MORGAN AND CO INC 3RD QTR SHR 1.18 DLRS VS 1.15 DLRS\n",
      " \n",
      "TANDY CORP 1ST QTR SHR 71 CTS VS 49 CTS\n",
      " \n",
      "AMERICAN CYANAMID CO 3RD QTR OPER SHR 59 CTS UP 22 PCT\n",
      " \n",
      "WANG LABORATORIES INC 1ST QTR SHR PROFIT 14 CTS VS LOSS 19 CTS\n",
      " \n",
      "BROCKWAY INC 3RD QTR SHR 98 CTS VS 70 CTS\n",
      " \n",
      "LOTUS DEVELOPMENT CORP 3RD QTR SHR 42 CTS VS 21 CTS \n",
      " \n",
      "PHELPS DODGE CORP 3RD QTR NET 58.2 MLN DLRS VS 19.4 MLN DLRS\n",
      " \n",
      "CMS ENERGY CORP 3RD QTR SHR 65 CTS VS 10 CTS\n",
      " \n",
      "MICROSOFT CORP 1ST QTR SHR 38 CTS VS 29 CTS\n",
      " \n",
      "CURTICE BURNS FOODS INC 1ST QTR SHR 75 CTS VS 64 CTS \n",
      " \n",
      "SECURITY PACIFIC CORP 3RD QTR SHR 1.16 DLRS VS 1.09 DLRS\n",
      " \n",
      "CALFED INC 3RD QTR SHR 1.99 DLRS VS 2.05 DLRS\n",
      " \n",
      "TRINOVA CORP 3RD QTR SHR 52 CTS VS 43 CTS\n",
      " \n",
      "Norsk Data lowers 1987 pre-tax profit forecast by 100 mln crowns\n",
      " \n",
      "GREAT WESTERN FINANCIAL CORP 3RD QTR NET SHR 45 CTS VS 64 CTS\n",
      " \n",
      "DOW CHEMICAL CO 3RD QTR SHR 1.72 DLRS VS 87 CTS\n",
      " \n",
      "TRIBUNE CO 3RD QTR SHR 42 CTS VS 1.53 DLRS\n",
      " \n",
      "SHEARSON LEHMAN BROTHERS HOLDING INC 3RD QTR NET 51 MLN DLRS VS 65 MLN DLRS\n",
      " \n",
      "BAXTER TRAVENOL LABORATORIES INC 3RD QTR SHR 31 CTS VS 18 CTS\n",
      " \n",
      "PRIME COMPUTER INC 3RD QTR SHR 32 CTS VS 25 CTS\n",
      " \n",
      "UNION CAMP CORP 3RD QTR SHR 77 CTS VS 50 CTS\n",
      " \n",
      "WELLS FARGO AND CO 3RD QTR SHR 2.77 DLRS VS 1.35 DLRS\n",
      " \n",
      "WELLS FARGO AND CO 3RD QTR NET 155.0 MLN DLRS VS 77.4 MLN DLRS\n",
      " \n",
      "SEARS, ROEBUCK AND CO 3RD QTR SHR 1.08 DLRS VS 88 CTS\n",
      " \n",
      "SCHLUMBERGER LTD 3RD QTR NET PROFIT 1,697,000 VS LOSS 41.9 MLN DLRS\n",
      " \n",
      "FIREMAN'S FUND CORP 3RD QTR NET SHR 3.71 DLRS VS 95 CTS\n",
      " \n",
      "MCKESSON CORP 2ND QTR SHR 14 CTS VS 13 CTS\n",
      " \n",
      "RYDER SYSTEM INC 3RD QTR SHR 65 CTS VS 63 CTS\n",
      " \n",
      "MELLON BANK CORP 3RD QTR SHR 47 CTS VS 1.78 DLRS\n",
      " \n",
      "KRAFT INC 3RD QTR SHR 91 CTS VS 17 CTS\n",
      " \n",
      "MELLON BANK CORP 3RD QTR NET 16 MLN DLRS VS 53 MLN DLRS\n",
      " \n",
      "SMITHKLINE BECKMAN CORP 3RD QTR SHR 1.18 DLRS VS 87 CTS\n",
      " \n",
      "SPRINGS INDUSTRIES INC 3RD QTR SHR 99 CTS VS 42 CTS\n",
      " \n",
      "US WEST 3RD QTR SHR 1.46 DLRS VS 1.41 DLRS\n",
      " \n",
      "FIRESTONE TIRE AND RUBBER CO RAISES QUARTERLY DIVIDEND TO 30 CTS FROM 25 CTS\n",
      " \n",
      "AVON PRODUCTS INC 3RD QTR SHR 37 CTS VS 42 CTS\n",
      " \n",
      "GENERAL SIGNAL CORP 3RD QTR SHR 67 CTS VS 65 CTS\n",
      " \n",
      "MARSH AND MCLENNAN COS INC 3RD QTR SHR 1.04 DLRS VS 87 CTS\n",
      " \n",
      "SUNDSTRAND CORP 3RD QTR SHR 44 CTS VS 1.07 DLRS\n",
      " \n",
      "GTE CORP 3RD QTR SHR 86 CTS VS 96 CTS\n",
      " \n",
      "MELVILLE CORP 3RD QTR PER SHARE 95 CTS VS 87 CTS\n",
      " \n",
      "DOMINION RESOURCES INC 3RD QTR SHR 1.52 DLRS VS 1.37 DLRS\n",
      " \n",
      "UNITED TELECOMMUNICATIONS INC 3RD QTR SHR 23 CTS VS 49 CTS\n",
      " \n",
      "LOUISIANA-PACIFIC CORP 3RD QTR SHR 1.11 DLRS VS 59 CTS\n",
      " \n",
      "BRISTOL-MYERS CO 3RD QTR SHR 70 CTS VS 61 CTS\n",
      " \n",
      "BANKERS TRUST NEW YORK CORP 3RD QTR SHR 2.03 DLRS VS 1.53 DLRS\n",
      " \n",
      "COCA-COLA ENTERPRISES INC 3RD QTR SHR 23 CTS VS 23 CTS\n",
      " \n",
      "MANUFACTURERS HANOVER CORP 3RD QTR SHR 2.73 DLRS VS 2.29 DLRS\n",
      " \n",
      "E.F. HUTTON GROUP 3RD QTR SHR 26 CTS VS 11 CTS\n",
      " \n",
      "WARNER COMMUNICATIONS 3RD QTR SHR 41 CTS VS 28 CTS\n",
      " \n",
      "WASHINGTON POST CO 3RD QTR SHR 4.77 DLRS VS 1.65 DLRS\n",
      " \n",
      "BANC ONE CORP 3RD QTR SHR 66 CTS VS 57 CTS\n",
      " \n",
      "KELLOGG CO 3RD QTR SHR 96 CTS VS 83 CTS\n",
      " \n",
      "JANNOCK LTD INCREASES QTLY DIVIDEND TO 17 CTS FROM 13 CTS/SHR\n",
      " \n",
      "NEW YORK STATE ELECTRIC AND GAS CORP 3RD QTR SHR 71 CTS VS 78 CTS\n",
      " \n",
      "OHIO EDISON CO 3RD QTR SHR 60 CTS VS 57 CTS\n",
      " \n",
      "CITICORP 3RD QTR NET 541 MLN DLRS VS 247 MLN DLRS\n",
      " \n",
      "CITICORP 3RD QTR SHR 3.64 DLRS VS 1.64 DLRS\n",
      " \n",
      "SCOTT PAPER CO 3RD QTR SHR 1.52 DLRS VS 1.02 DLRS\n",
      " \n",
      "AMOCO CORP 3RD QTR SHR 1.60 DLRS VS 68 CTS\n",
      " \n",
      "FANNIE MAE RAISES 3RD QTR DIVIDEND TO 12 CTS PER SHR FROM EIGHT CTS\n",
      " \n",
      "TW SERVICES INC REPORTS THIRD QTR PER SHARE OF 38 CTS VS 28 CTS.\n",
      " \n",
      "ECOLAB INC 3RD QTR OPER SHR 16 CTS VS 34 CTS\n",
      " \n",
      "WELLS FARGO SAID IT RAISED ITS QUARTERLY DIVIDEND TO 50 CTS FROM 39 CTS\n",
      " \n",
      "CITIZENS AND SOUTHERN CORP 3RD QTR SHR 75 CTS VS 67 CTS\n",
      " \n",
      "KENNER PARKER TOYS INC 3RD QTR OPER SHR 1.22 DLRS VS 88 CTS\n",
      " \n",
      "PUBLIC SERVICE ENTERPRISE GROUP REPORTS THIRD QTR PER SHARE OF 78 CTS VS 87 CTS.\n",
      " \n",
      "INGERSOLL-RAND THIRD QTR PER SHARE 41 CTS VS 39 CTS\n",
      " \n",
      "ALLIED BANCSHARES INC 3RD QTR NET LOSS 104.2 MLN VS LOSS 46.4 MLN\n",
      " \n",
      "TEKELEC <TKLC.O> 3RD QTR NET Shr nine cts vs 12 cts Net 336,000 vs 433,000 Revs 4,369,000 vs 3,671,000 Nine Mths Shr seven cts vs 33 cts Net 249,000 vs 1,112,000 Revs 12.0 mln vs 10.2 mln Reuter \u0003\n",
      "NL INDUSTRIES INC 3RD QTR NET PROFIT 18.2 MLN VS LOSS 23.9 MLN\n",
      " \n",
      "ALCAN ALUMINIUM LIMITED 3RD QTR NET 122 MLN U.S. DLRS VS 62 MLN U.S. DLRS\n",
      " \n",
      "QUAKER OATS CO 1ST QTR SHR 52 CTS VS 42 CTS\n",
      " \n",
      "SCHERING-PLOUGH CORP 3RD QTR SHR 63 CTS VS 50 CTS\n",
      " \n",
      "FIRST REPUBLICBANK CORP 3RD QTR NET LOSS 6.3 MLN DLRS OR 46 CTS PER SHR DILUTED\n",
      " \n",
      "CANADIAN UTILITIES INCREASES QTLY DIVIDEND TO 33 CTS FROM 32-1/2 CTS/SHR\n",
      " \n",
      "MORRISON KNUDSEN CORP 3RD QTR OPER SHR LOSS 2.51 DLRS VS PROFIT 94 CTS\n",
      " \n",
      "POLAROID CORP 3RD QTR SHR 39 CTS VS 39 CTS\n",
      " \n",
      "ABITIBI-PRICE INC 3RD QTR SHR 45 CTS VS 42 CTS\n",
      " \n",
      "GULF AND WESTERN INC 2ND QTR SHR 86 CTS VS 73 CTS\n",
      " \n",
      "BROWN GROUP INC 1ST QTR SHR 56 CTS VS 42 CTS\n",
      " \n",
      "ROYAL BANK OF CANADA 2ND QTR SHR 83 CTS VS 1.05 DLRS\n",
      " \n",
      "AHMANSON TO POST 2ND QTR WRITEOFF OF 24 MLN DLRS ON FSLIC RESERVE INVESTMENT\n",
      " \n",
      "MERCANTILE BANCORP SEES 2ND QTR LOSS OF 33 MLN DLRS, YEAR PROFIT OF TWO MLN\n",
      " \n",
      "British Telecom pretax profit rises 11.7 pct to 2.07\n",
      "billion stg in yr to end-March\n",
      " \n",
      "BET pretax profit 157.4 mln stg vs 124.6 in year to\n",
      "end-March\n",
      " \n",
      "LINCOLN TELECOMMUNICATIONS RAISES DIVIDEND, VOTES\n",
      "TWO-FOR-ONE SPLIT\n",
      " \n",
      "PRICE CO 3RD QTR SHR 30 CTS VS 24 CTS\n",
      " \n",
      "BELL AND HOWELL SAYS IT SEES EARNINGS PER SHARE GROWTH OF\n",
      "12-15 PCT THROUGH 1990\n",
      " \n",
      "FIRST WISCONSIN ADDS LOAN LOSSES, SEE 2ND QTR LOSS OF\n",
      "2.80 DLRS A\u001b[B SHARE\n",
      " \n",
      "AMERICAN EXPRESS CO SEES 50 MLN DLR CONSOLIDATED LOSS IN\n",
      "2ND QTR FROM ADDITION TO UNIT'S LOAN LOSS RESERVE.\n",
      " \n",
      "AMERICAN GREETINGS CORP 1ST QTR SHR 42 CTS VS 53 CTS\n",
      " \n",
      "MAY DEPARTMENT STORES SEES RECORD SALES, PROFITS FOR YEAR\n",
      " \n",
      "FEDERAL CO PREDICTS RECORD EARNINGS PER SHARE 4.25-4.50\n",
      "DLRS FISCAL 1987.\n",
      " \n",
      "FIELDCOR <FICR.O> TO ADD TO LOAN LOSSES Fieldcor Inc said it will take a one-time 30 mln dlr special provision in the second quarter for possible losses in loans to developing countries. The corporation said it will be profitable in the quarter despite the action which will reduce quarterly net income by 23 mln dlrs, or 37 cts a share on a fully diluted basis. For the year-ago second quarter, Fieldcor reported earnings of 24.8 mln dlrs, or 95 cts a share. Fieldcor also said it expects to report \"strong earnings\" for the second half of the year. It earned 92.3 mln dlrs, or 3.69 dlrs a share fully diluted in 1986. The company said its loans to developing countries experiencing payment or liquidity problems total 88 mln dlrs and represent 1.3 pct of its total loan portfolio. It said there will be no change in the current dividend policy. Reuter \u0003\n",
      "PREMIER GROUP SEES REASONABLE PROFIT RISE Premier Group Holdings Ltd <PMLJ.J> anticipates that current fiscal year profits will show a reasonable increase over last year when per share results rose 43 pct to 233 cents, the company said in the annual report. The profit projection assumed \"no further significant political deterioration inside South Africa, and no unmanageable increase in sanctions\" in industries that Premier is involved, the company added. The company, with total turnover of 2.62 billion rand in the year ended March 31, operates in the food, fishing, pharmaceutical and leisure industries. Reuter \u0003\n",
      "LORIMAR TELEPICTURES <LT> 4TH QTR OPER LOSS Period ended March 31 Oper shr loss 1.07 dlrs vs not applicable Oper net loss 49,098,000 vs n.a. Revs 240.5 mln Avg shrs 45,810,000 Year Oper shr loss 84 cts Oper net loss 36,609,000 Revs 766.2 mln Avg shrs 43,428,000 NOTE: Full name is Lorimar Telepictures Corp Prior-year comparisons not applicable. Lorimar and Telepictures merged in February 1986 Earnings exclude losses from discontinued operations of 13,562,000 dlrs, or 30 cts a share in the quarter and 21,992,000 dlrs, or 51 cts a share for the year Reuter \u0003\n",
      "CTS CORP CUTS DIVIDEND TO 12-1/2 CTS FROM 25 CTS\n",
      " \n",
      "RITE AID CORP <RAD> 1ST QTR NET MAY 30 Shr 50 cts vs 40 cts Net 20.8 mln vs 16.4 mln Revs 531.7 mln vs 418.7 mln NOTE: 1987 first qtr net gain from discontinued operations was 47.1 mln or 1.64 dlrs per share. 1986 first qtr ended on May 31. Reuter \u0003\n",
      "CTS <CTS> HALVES DIVIDEND TO 12-1/2 CTS CTS Corp said its directors voted to halve the quarterly dividend to 12-1/2 cts from 25 cts, payable August five, record July seven. CTS said the action was taken to increase cash available for reinvestment in the company's business. Reduction in the quartelry dividend was not the result of any sudden, materially adverse change in business conditions or in response to any actions taken by its banks or creditors, according to a company statement. Reuter \u0003\n",
      "BANK OF NEW YORK ADDS 135 MLN TO LOAN LOSSES, SEES SECOND\n",
      "QUARTER LOSS\n",
      " \n",
      "BANK OF NEW YORK ADDS 135 MLN TO LOAN LOSSES, SEES SECOND\n",
      "QUARTER LOSS\n",
      " \n",
      "JMB REALTY TRUST CUTS DIVIDEND TO 35 CTS FROM 41 CTS\n",
      " \n",
      "CONTEL CORP SAYS IT EXPECTS LOWER SECOND QUARTER, YEAR NET\n",
      " \n",
      "FRANKFURT BOURSE CLOSES QUIETLY EASIER A technical reaction to yesterday's strong gains saw leading German share prices fall across the board in quiet trading, dealers said. Shares gained strongly yesterday after the centre-right CDU and liberal FDP won state elections in Hesse, but there was no follow-through today, and professional traders took profits. The Commerzbank index of 60 leading shares fell 15.6 to 1,855.7. Computer Nixdorf fell 4.50 marks to 781, despite announcing world group 1986 net profit rose to 222.42 mln marks from 172.29 mln, which initially pushed it to a 786.50 high. In other electricals, Siemens shed 12.50 to 716.50 and AEG fell 10 marks to 315. Dresdner bank, due to announce its 1986 net profit and dividend later today, fell nine marks to 356. Deutsche shed 10 marks to 687 and Commerzbank lost 9.20 to 278. Bayernhypo fell 15 marks to 449 after news yesterday it raised 1986 parent net profit to 200.6 mln marks from 184.1 mln and left its dividend unchanged at 12.50. Insurer Allianz dropped 20 marks to 1,845. In chemicals BASF lost 5.70 to 276.10, but its mostly owned subsidiary Kali und Salz firmed 2.50 to 213.50, despite news last week it swung into a loss in 1986. Engineer Mannesmann eased 3.20 marks to 178.30. In autos Daimler shed 23 marks to 1,022, VW was off two marks at 366.50, and BMW fell 13 marks to 532. Engineer Mannesmann eased 3.20 marks to 178.30. In autos Daimler shed 23 marks to 1,022, VW was off two marks at 366.50, and BMW fell 13 marks to 532. REUTER \u0003\n",
      "VANCOUVER EXCHANGE MARCH VOLUME RISES Vancouver Stock Exchange said March volume was 479.2 mln shares, its highest monthly volume ever and up from 270.1 mln in March 1986, and share value was 679.1 mln dlrs, up from 381.4 mln dlrs a year ago and second only to November 1980's 731.4 mln dlrs. For the first quarter, it said volume was 1.2 billion shares, the largest ever for a quarter and up 38.7 pct from a year earlier, and share value was 1.6 billion dlrs, second only to 1.7 billion dlrs in the fourth quarter of 1980 and up 47 pct from last year's first quarter. Reuter \u0003\n",
      "UNION CARBIDE SAYS 1986 LONG-TERM DEBT WAS 3.06 BILLION DLRS VS 1.71 BILLION in 1985\n",
      " \n",
      "JOHNSTOWN AMERICAN COS <JAC> 2ND QTR FEB 28 NET Shr six cts vs five cts Shr diluted four cts vs four cts Net 654,000 vs 532,000 Revs 32.5 mln vs 35.2 mln 1st half Shr 11 cts vs nine cts Shr diluted eight cts vs six cts Net 1,181,000 vs 953,000 Revs 62.7 mln vs 74.6 mln Reuter \u0003\n",
      "U.S. NET CORPORATE PROFITS ROSE 6.1 PCT IN 4TH QTR AFTER 5.5 PCT 3RD QTR RISE\n",
      " \n",
      "HARNISCHFEGER INDUSTRIES INC <HPH> 1ST QTR NET Shr 24 cts vs 1.20 dlrs Net 5.8 mln vs 20.2 mln Revs 193.5 mln vs 107.0 mln Avg shrs 16.4 mln vs 12.3 mln NOTE: 1987 net includes tax credits equal to 18 cts. 1986 net includes tax credits of 17 cts and a gain of 1.16 dlrs from a change in accounting for pensions. Periods end January 31, 1987 and 1986, respectively. Reuter \u0003\n",
      "ALCAN ALUMINIUM LTD SETS THREE FOR TWO STOCK SPLIT\n",
      " \n",
      "ALBERTSON'S INC <ABS> 4TH QTR JAN 29 NET Shr 92 cts vs 83 cts Net 30.8 mln vs 27.5 mln Sales 1.40 billion vs 1.32 billion Year Shr 3.00 dlrs vs 2.57 dlrs Net 184.8 mln vs 154.8 mln Sales 5.38 billion vs 5.06 billion Reuter \u0003\n",
      "U.S. INTEC INC <INTK> 4TH QTR NET Qtly div six cts vs five cts Net 188,000 vs 130,000 Sales 12.2 mln vs 10.1 mln Avg shrs 3,029,930 vs 2,764,544 Year Shr 81 cts vs 1.45 dlrs Net 2,463,000 vs 3,718,000 Sales 52.4 mln vs 47.5 mln Avg shrs 3,029,930 vs 2,566,680 NOTE: 1985 year net includes gain 500,000 dlrs frol life insurance on deceased director. 1985 quarter net includes 150,000 dlr tax credit. Reuter \u0003\n",
      "CINCINNATI BELL INC <CSN> RAISES QUARTERLY Qtly div 48 cts vs 44 cts prior Pay May One Record April One Reuter \u0003\n",
      "CINCINNATI BELL <CSN> SETS STOCK SPLIT Cincinnati Bell Inc said its board declared a two-for-one stock split, subject to two thirds approval at the annual meeting on April 20 of an increase in authorized common shares to 120 mln from 60 mln. It said the split would be payable May 20 to holders of record May Five. Reuter \u0003\n",
      "BRT REALTY TRUST <BRT> RAISES QUARTERLY PAYOUT BRT Realty Trust said it raised its quarterly dividend to 50 cts a share from the 42 cts paid in the previous quarter. It said the dividend is payable March 31 to shareholders of record March 17. BRT also said it filed a registration statement with the Securities and Exchange Commission for the public offering of 1.2 mln shares of common stock. BRT, which has about 3.3 mln common shares currently outstanding, said Merrill Lynch Capital Markets will be the sole manager of the offering. Reuter \u0003\n",
      "UNIVERSAL HEALTH REALTY <UHT> IN INITIAL PAYOUT Universal Health Realty Income Trust, which recently went public, said its board has declared an initial quarterly dividednd of 33 cts per share, payable MArch 31 to holders of record March 16. Reuter \u0003\n",
      "QED EXPLORATION INC <QEDX> 2ND QTR JAN 31 NET Shr six cts vs 12 cts Net 132,151 vs 261,560 Revs 622,909 vs 968,4287 1st half Shr nine cts vs 24 cts Net 204,765 vsd 539,769 Revs 1,181,424 vs 1,867,892 Reuter \u0003\n",
      "PREFERRED HEALTH CARE LTD <PHCC> YEAR DEC 31 NET Shr 24 cts vs 15 cts Net 1,520,797 vs 929,017 Revs 5,268,486 vs 2,617,995 Reuter \u0003\n",
      "AOI COAL CO <AOI> 4TH QTR NET Oper shr one ct vs one ct Oper net 147,000 vs 40,000 Revs 13.5 mln vs 14.1 mln Year Oper shr five cts vs 20 cts Oper net 621,000 vs 2,274,000 Revs 54.3 mln vs 56.0 mln NOTE: 1986 net excludes tax credits of 60,000 dlrs in quarter and 218,000 dlrs in year. Results reflect acceleration of depreciation on certain classes of mining equipment that resulted in the assets being fully depreciated in 1986. Reuter \u0003\n",
      "KEVEX CORP <KEVX> 2ND QTR JAN 31 NET Shr eight cts vs one ct Net 399,000 vs 44,000 Sales 9,603,000 vs 7,107,000 Six Mths Shr 10 cts vs one ct Net 503,000 vs 69,000 Sales 17.3 mln vs 13.8 mln Reuter \u0003\n",
      "NORTH ATLANTIC INDUSTRIES INC <NATL> YEAR NET Shr 40 cts vs 30 cts Net 1,408,000 vs 1,038,000 Sales 35.2 mln vs 31.6 mln NOTE: Results restated for change to FIFO inventory accounting from LIFO, which reduced 1985 net 192,000 dlrs or five cts a share. Reuter \u0003\n",
      "ALCAN ALUMINIUM LTD <AL> SETS STOCK SPLIT Alcan Aluminium Ltd said its board declared a three-for-two stock split, subject to shareholder approval at the April 23 annual meeting. The company said the split would be payable to shareholders of record on May Five and the split would take effect at the close of business on that date. New certificates will be issued around June Five. Reuter \u0003\n",
      "BUFFETS INC <BOCB> 4TH QTR NET Shr 10 cts vs nine cts Net 388,000 vs 328,000 Sales 7.1 mln vs 4.1 mln Avg shrs 4,066,309 vs 3,688,890 Year Shr 37 cts vs 30 cts Net 1,415,000 vs 955,000 Sales 27 mln vs 13.1 mln Avg shrs 3,849,659 vs 3,133,446 Reuter \u0003\n",
      "STANDARD MOTORS PRODUCTS INC <SMP> 4TH QTR NET Shr 38 cts vs 26 cts Net 4,955,000 vs 3,444,000 Revs 81.7 mln vs 59.3 mln 12 mths Shr 1.41 dlrs vs 80 cts Net 18.6 mln vs 10.5 mln Revs 286.4 mln vs 242.8 mln Reuter \u0003\n",
      "AIR WIS SERVICES INC <ARWS> 4TH QTR NET Shr 32 cts vs five cts Net 2,362,000 vs 384,000 Revs 29.5 mln vs 31.2 mln Year Shr 66 cts vs 18 cts Net 4,869,000 vs 1,336,000 Revs 119.2 mln vs 120.2 mln NOTE: Net includes tax credits of 963,000 dlrs vs 720,000 dlrs in quarter and 613,000 dlrs vs 1,460,000 dlrs in year. Year net includes gains on sale of assets of 35 cts shr vs 14 cts shr. Reuter \u0003\n",
      "ARBOR DRUGS INC <ARBR> 2ND QTR JAN 31 NET Shr 30 cts vs 36 cts Net 1,914,388 vs 1,906,095 Sales 58.7 mln vs 40.6 mln Six mths Shr 47 cts vs 53 cts Net 2,961,718 vs 2,817,439 Sales 107.6 mln vs 74.9 mln Avg shrs 6,342,353 vs 5,342,353 Reuter \u0003\n",
      "EPITOPE <EPTO> SETS THREE FOR ONE STOCK SPLIT Epitope Inc said its board of directors has authorized a three-for-one common stock split for which shareholder approval is expected in the next two weeks. The company announced a two-for-one split last week, but said the board reconvened and agreed to change it to a three-for-one split. Epitope is involved in the production of monoclonal antibodies for diagnostic and therapeutic use in AIDS and other immunological diseases. Reuter \u0003\n",
      "CITIZENS FINANCIAL CORP <CTZN> 4TH QTR NET Shr 17 cts vs 18 cts Net 339,000 vs 351,000 Revs 2,917,000 vs 2,735,000 12 mths Shr 62 cts vs 64 cts Net 1,268,000 vs 1,356,000 Revs 11.1 mln vs 10.5 mln Reuter \u0003\n",
      "INTERNATIONAL HYDRON CORP <HYD> 4TH QTR NET Oper shr profit six cts vs loss 20 cts Oper net profit 634,000 vs loss 2,312,000 Sales 16.8 mln vs 13.9 mln Year Oper shr profit 30 cts vs profit three cts Oper net profit 3,342,000 vs profit 318,000 Sales 67.5 mln vs 52.6 mln NOTE: Operating net excludes loss of 41,000 dlrs vs profit 7,000 dlrs in quarter and profit 247,000 dlrs, or two cts a share, vs profit 88,000 dlrs, or one cent a share, in year from net operating loss carryforwards Reuter \u0003\n",
      "COGNITIVE SYSTEMS INC <CSAI> 4TH QTR NOV 30 LOSS Shr loss eight cts vs loss three cts Net loss 213,000 vs loss 49,000 Revs 636,000 vs 445,0000 Year Shr loss 11 cts vs loss 38 cts Net loss 235,000 vs loss 611,0000 Revs 2,389,000 vs 1,287,000 Reuter \u0003\n",
      "POLYMERIC RESOURCES CORP <POLR> 2ND QTR DEC 31 Shr nine cts vs nine cts Net 98,0000 vs 97,000 Sales 3,945,000 vs 2,106,000 1st half Shr 17 cts vs 18 cts Net 194,000 vs 203,000 Sales 7,535,000 vs 4,136,000 Reuter \u0003\n",
      "CONT'L ILLINOIS RECHARACTERIZES 425 MLN DLRS IN BAD LOANS FROM 1984, SAYS DOESN'T AFFECT NET\n",
      " \n",
      "HEALTH-MOR INC <HMI> 4TH QTR NET Shr 27 cts vs 39 cts Net 481,189 vs 697,381 Revs 6.1 mln vs 6.4 mln Year Shr 1.04 dlrs vs 1.35 dlrs Net 1,846,670 vs 2,391,638 Revs 25.6 mln vs 28.6 mln Reuter \u0003\n",
      "TFC TELESERVICES CORP <TFCS> YEAR NOV 30 LOSS Shr loss 54 cts vs 16.18 dlrs Net loss 1,429,226 vs loss 153,680 Revs 202,628 vs 282 Avg shrs 2,883,812 vs 9,500 Note: 1986 net includes loss from discontinued operations of 114,887 or four cts a share. Reuter \u0003\n",
      "(CORRECTED) - <TRANSALTA UTILITIES CORP> YEAR NET Shr 81 cts vs 2.78 dlrs Net 53.5 mln vs 180.9 mln Revs 915.5 mln vs 836.0 mln Note: 1986 net includes 125 mln dlr or 1.90 dlr shr writedown of investment in <Canada Northwest Energy Ltd> vs yr-ago extraordinary loss of 17 cts shr (net fig not given). Reuter \u0003\n",
      "JOHN WILEY AND SONS INC <WILLB> 3RD QTR NET Qtr ended Jan 31 Shr 72 cts vs 71 cts Net 3,062,000 vs 3,023,000 Revs 58.5 mln vs 56.4 mln Nine mths Shr 2.10 dlrs vs 1.73 dlrs Net 8,972,000 vs 7,337,000 Revs 169.9 mln vs 161.7 mln Note: Net includes gain from sale of land of 1,105,000 dlrs or 26 cts a share for the nine mths. Reuter \u0003\n",
      "ARBOR DRUGS INC <ARBR> 2ND QTR JAN 31 NET Shr 30 cts vs 36 cts Net 1,914,388 vs 1,906,095 Sales 58.8 mln vs 40.7 mln 1st half Shr 47 cts vs 53 cts Net 2,961,718 vs 2,817,439 Sales 107.7 mln vs 74.9 mln Avg shrs 6,342,353 vs 5,342,353 Reuter \u0003\n",
      "TECHNOLOGY DEVELOPMENT CORP <TDCK> 4TH QTR NET Shr profit six cts vs profit eight cts Net profit 102,000 vs profit 151,000 Revs 4,846,000 vs 5,041,000 Avg shrs 1,725,744 vs 1,806,323 12 mths Shr loss 1.36 dlrs vs profit 56 cts Net loss 2,318,00 vs profit 789,000 Revs 17.5 mln vs 20.9 mln Avg shrs 1,710,655 vs 1,404,878 Reuter \u0003\n",
      "FLANIGAN'S ENTERPRISES INC <BDL> 1ST QTR DEC 27 Shr 64 cts vs 1.16 dlrs Net 602,000 vs 1,079,893 Sales 8,208,000 vs 11.6 mln NOTE: Prior year net includes gain 1,317,000 dlrs or 1.41 dlrs shr on sale of West Paces Racquet Club. Current year net includes 15 ct shr extraordinary gain. Reuter \u0003\n",
      "TRIANGLE INDUSTRIES INC 4TH QTR OPER SHR LOSS THREE CTS VS PROFIT 27 CTS  \n",
      " \n",
      "CONTINENTAL ILL <CIL> TO RECHARACTERIZE LOSS Continental Illinois Corp settled an administrative complaint by the Securities and Exchange Commission by agreeing to recharacterize 425 mln dlrs previously reported in the second quarter 1984 as a \"loss of sale on loans.\" Under the settlement, which was announced simultaneously with the filing of the SEC's administrative action, Continental agreed to restate earlier financial reports to single out the 425 mln dlrs as a separate loan loss item instead of lumping it together with another item. The bank holding company said the change does not affect its operating results for 1984. The SEC stressed in the complaint that it was not challenging Continental's reported net loss for the second quarter of 1984. But it said it was misleading for the bank to split the 950 mln dlr loan loss provision in half, attributing 425 mln dlrs of it to the event of sale. The 425 mln dlrs should have been part of a 950 mln dlr billion dlr loan loss provision required by the Office of the Comptroller of the Currency, the SEC said. Continental had originally listed 565 mln dlrs of the loan loss provision as a credit loss and another 425 mln dlrs as a loss on sale of loans, the SEC said. It was misleading for the bank to list the 425 mln dlrs as loss on sale, which implied the loss would not have occurred had there not been a sale of distressed loans to the Federal Deposit Insurance Corp, the SEC said. The bank should have listed 990 mln dlrs as a credit loss instead of 565 mln dlrs and should not have charecterized the other 425 mln dlrs as a provision for loss on sale of loans, the SEC said. Continental agreed to the settlement with the SEC without admitting or denying any violations, the SEC said. But it agreed to restate its 1984 financial statements to accommodate the SEC's objections and to report to its shareholders a summarized version of the SEC's administrative action against it, the agency said. A Continental official stressed that the settlement in no way will result in any change or restatement of the company's earnings for that period. Reuter \u0003\n",
      "REX-NORECO INC <RNX> 1ST HALF JAN 31 NET Shr 20 cts vs 28 cts Net 393,371 vs 555,989 Revs 3,669,602 vs 3,498,780 Reuter \u0003\n",
      "PACKAGING SYSTEMS CORP <PAKS> 4TH QTR NET Oper shr eight cts vs five cts Oper net 164,000 vs 116,000 Sales 8,059,000 vs 7,148,000 Year Oper shr 67 cts vs 19 cts Oper net 1,492,0000 vs 433,000 Sales 30.9 mln vs 24.8 mln NOTE: Net excludes discontinued operations losses 768,000 dlrs vs 40,000 dlrs in quarter and loss 700,000 dlrs vs gain 307,000 dlrs in year. 1985 year net excludes gain 482,000 dlrs from change in accounting for investment tax credits. Share adjusted for August 1986 100 pct stock dividend. Reuter \u0003\n",
      "G.D. RITZY'S INC <RITZ> 4TH QTR LOSS Ended Jan four Shr loss 14 cts vs loss 27 cts Net loss 850,000 vs loss 1,400,000 Revs 2,280,000 vs 2,220,000 Year Shr loss 30 cts vs loss 1.06 dlrs Net loss 1,800,000 vs loss 5,500,000 Revs 9,500,000 vs 12.9 mln Reuter \u0003\n",
      "TRIANGLE INDUSTRIES INC <TRI> 4TH QTR LOSS Oper shr loss three cts vs profit 27 cts Oper net loss 178,000 vs profit 4,165,000 Sales 783.7 mln vs 464.6 mln Avg shrs 25.3 mln vs 10.3 mln Year Oper shr profit 2.61 dlrs vs profit 2.75 dlrs Oper shr diluted profit 2.05 dlrs vs profit 2.66 dlrs Oper net profit 47.6 mln vs profit 31.0 mln Sales 2.67 billion vs 1.65 billion Avg shrs 16.0 mln vs 9.8 mln Avg shrs diluted 24.5 mln vs 10.2 mln NOTES: Results include American Can Packaging Inc and National Can Corp from acquisition on Nov 1, 1986, and April 16, 1985, respectively 1986 4th qtr oper results reduced 3.0 mln dlrs, or 12 cts a share, by retroactive elimination of investment tax credits 1985 operating profit includes gains of 1.8 mln dlrs, or 17 cts a share, in quarter and 6.8 mln dlrs, or 67 cts a share, in year from sale of investments Operating net excludes loss of 647,000 dlrs, or three cts a share, vs profit 173,000 dlrs, or two cts a share, in quarter and loss 647,000 dlrs, or four cts a share, vs profit 5,847,000 dlrs, or 60 cts a share, in year from discontinued operations. 1986 operating results also exclude charges of 1,271,000 dlrs, or five cts a share, in quarter and 34.0 mln dlrs, or 2.12 dlrs a share, in year from early extinguishment of debt Reuter \u0003\n",
      "ESI INDUSTRIES INC <ESI> 4TH QTR NET Oper shr five cts vs 15 cts Oper net 236,996 vs 661,780 Revs 11.3 mln vs 11.00 mln Avg shrs 4,249,221 vs 4,218,754 Year Oper shr 33 cts vs 57 cts Oper net 1,465,700 vs 2,033,457 Revs 44.0 mln vs 41.4 mln Avg shrs 4,348,127 vs 3,431,669 NOTE: Net excludes discontinued TGC Industries Inc operations nil vs gain 123,174 dlrs in quarter and loss 213,809 dlrs vs gain 377,412 dlrs in year. Reuter \u0003\n",
      "THUNANDER CORP <THDR> YEAR NET Shr 73 cts vs 58 cts Shr diluted 69 cts vs 54 cts Net 1,101,000 vs 901,000 Sales 33.0 mln vs 29.1 mln NOTE: Results include BMD of New England Inc from September 1, 1986 purchase. Reuter \u0003\n",
      "SEARS TO TAKE 20 MLN DLR AFTER-TAX CHARGE IN FIRST QUARTER FOR RESTRUCTURING\n",
      " \n"
     ]
    }
   ],
   "source": [
    "for i in range(len(test_data)):\n",
    "    if(result[3]['predict'][i] == 1):\n",
    "        print(test_data[i])"
   ]
  },
  {
   "cell_type": "code",
   "execution_count": 60,
   "metadata": {
    "collapsed": false,
    "scrolled": true
   },
   "outputs": [
    {
     "name": "stdout",
     "output_type": "stream",
     "text": [
      "MIDWEST GRAIN FUTURES 11:00   EDT MINNEAPOLIS WHEAT MAY7 284 3/4 UP 1 1/4 JUL7 280 1/4 OFF 1/2 SEP7 277 UP 1 DEC7 -- -- MAR8 -- -- \u0003\n",
      "MIDWEST GRAIN FUTURES 11:01   EDT MINNEAPOLIS WHEAT MAY7 284 3/4 UP 1 1/4 JUL7 280 1/4 OFF 1/2 SEP7 277 UP 1 DEC7 -- -- MAR8 -- -- \u0003\n",
      "CBT WHEAT FUTURES OPEN FIRMER, SET NEW HIGHS CBT wheat futures opened firmer to again set new contract highs in new crop, then back off those highs to hold gains of 1-1/4 cents per bushel in May, with new crop July unchanged in light early dealings. Steady speculative buying after yesterday's strong close kept the chart picture very bullish and supported initial values, traders said. Rumors that exporters are planning to ship SRW wheat out of Toledo and/or Chicago, further tightening already low deliverable stocks, kept May firm relative to new crop months, they added. However, the rally failed to follow-through due to the lack of confirmed export sales of significant quantities of U.S. wheat so far this week, as some traders expected. Reuter \u0003\n",
      "MIDWEST GRAIN FUTURES 11:10   EDT MINNEAPOLIS WHEAT MAY7 285 UP 1 1/2 JUL7 280 3/4 UNCH SEP7 277 UP 1 DEC7 -- -- MAR8 -- -- \u0003\n",
      "MIDWEST GRAIN FUTURES 11:20   EDT MINNEAPOLIS WHEAT MAY7 285 1/4 UP 1 3/4 JUL7 281 UP 1/4 SEP7 277 UP 1 DEC7 -- -- MAR8 -- -- \u0003\n",
      "MIDWEST GRAIN FUTURES 11:31   EDT MINNEAPOLIS WHEAT MAY7 285 UP 1 1/2 JUL7 281 UP 1/4 SEP7 277 UP 1 DEC7 -- -- MAR8 -- -- \u0003\n",
      "U.K. GRAIN FUTURES CLOSE STEADY TO FIRMER Barley futures closed 0.15 to 0.05 stg per tonne higher and wheat 0.60 to 0.20 firmer. Barley turnover was light at 47 lots, including 24 cross transactions, while the wheat volume totalled 197 lots, of which 81 were self trades. Traders said wheat futures continued to trade cautiously but old crop values moved higher on short covering interest with gains in physicals influencing sentiment. Barley showed smaller gains in lighter trading. REUTER \u0003\n",
      "KANSAS CITY SHIPMENTS AND RECEIPTS in bushels Truck Receipts Wheat 73,684 Corn 17,979 Grain Sorghum 4,391 Soybns 72,180 Truck Shipments Corn 8,000 Barge Shipments - None Reuter \u0003\n",
      "KANSAS CITY WHEAT MARGINALLY FIRMER AT MIDDAY Hard wheat futures traded 1/4 cent higher to steady in light midsession trading as firm Chicago wheat futures and hopes for new export sales this week lent support, traders said. May stood 1/4 cent higher at 2.74 dlrs. Trading was light with little fresh direction in the market. Traders awaited results on Jordan's Export Bonus tender for hard wheat and Egypt's tender this week for flour. Staley bought July and the July/December spread traded at 7-1/2 cents, pit brokers said. Reuter \u0003\n",
      "MIDWEST GRAIN FUTURES 11:40   EDT MINNEAPOLIS WHEAT MAY7 284 1/2 UP 1 JUL7 281 UP 1/4 SEP7 277 UP 1 DEC7 -- -- MAR8 -- -- \u0003\n",
      "MIDWEST GRAIN FUTURES 11:50   EDT MINNEAPOLIS WHEAT MAY7 284 1/4 UP 3/4 JUL7 280 3/4 UNCH SEP7 276 1/2 UP 1/2 DEC7 -- -- MAR8 -- -- \u0003\n",
      "MIDWEST GRAIN FUTURES 12:00   EDT MINNEAPOLIS WHEAT MAY7 285 1/4 UP 1 3/4 JUL7 280 3/4 UNCH SEP7 276 1/2 UP 1/2 DEC7 -- -- MAR8 -- -- \u0003\n",
      "MIDWEST GRAIN FUTURES 12:01   EDT MINNEAPOLIS WHEAT MAY7 285 UP 1 1/2 JUL7 280 3/4 UNCH SEP7 276 1/2 UP 1/2 DEC7 -- -- MAR8 -- -- \u0003\n",
      "CBT CORN FUTURES HOLD GAINS AT MIDSESSION CBT corn futures held gains of two to 2-3/4 cents per bushel in moderately light midsession trade. Yesterday's sharp jump in the weekly corn export figure to about three times last year's weekly inspections, plus the outlook for a continued active export pace due to the decline in the U.S. dollar this year, supported nearbys, traders said. Diminished PIK-and-roll activity, compared with the active pace seen last week, added to the more positive tone. Most dealers expect the contract lows in corn futures to hold, with some looking for the improving chart picture to support a further advance. A local house, Cargill, the Illinois Co-op, Refco and ADM were the featured buyers of old crop May, with Drexel/Burnham a steady buyer in new crop December, pit brokers said. Reuter \u0003\n",
      "MINNEAPOLIS SPRING WHEAT MOSTLY UP AT MIDDAY Spring wheat futures traded unchanged to two cents higher at midsession as firm exporter demand lent support, traders said. May stood 1-1/2 cents higher at 2.85 dlrs. The 14 pct spring wheat cash basis was steady at 38 cents over May amid increased receipts of 186 cars. Milling durum was steady at 3.95 to 4.00 dlrs and terminal quality was unchanged at 3.55 dlrs for Minneapolis and 3.80 dlrs Duluth. Other quotes were unchanged with Duluth sunseed at 7.80 dlrs, number one and two oats at 1.55 to 1.66 dlrs, feed barley at 1.75 dlrs for Duluth and malting barley at 2.00 to 2.05 dlrs. Reuter \u0003\n",
      "MIDWEST GRAIN FUTURES 12:10   EDT MINNEAPOLIS WHEAT MAY7 285 UP 1 1/2 JUL7 281 1/4 UP 1/2 SEP7 276 1/2 UP 1/2 DEC7 -- -- MAR8 -- -- \u0003\n",
      "CBT WHEAT FUTURES EASE TO MIXED BY MIDSESSION CBT wheat futures closed from early contract highs in new crop to trade quietly mixed at midsession, ranging from up 3/4 cent per bushel in May to down 3/4 in new crop July. After opening higher on follow-through speculative buying after yesterday's technically strong close, prices eased on trade-talk that some countries who were holding buying tenders this week have rejected U.S. offers or have taken wheat from other exporting countries, traders said. However, the strong chart picture probably will limit declines, they added. Cargill Grain was the featured seller in new crop July, sparking rumors that the U.S. is currently not competitive on the World wheat market, even with government programs. Reuter \u0003\n",
      "MIDWEST GRAIN FUTURES 12:20   EDT MINNEAPOLIS WHEAT MAY7 285 UP 1 1/2 JUL7 281 1/4 UP 1/2 SEP7 276 1/2 UP 1/2 DEC7 -- -- MAR8 -- -- \u0003\n",
      "MIDWEST GRAIN FUTURES 12:30   EDT MINNEAPOLIS WHEAT MAY7 285 UP 1 1/2 JUL7 282 UP 1 1/4 SEP7 277 1/2 UP 1 1/2 DEC7 -- -- MAR8 -- -- \u0003\n",
      "MIDWEST GRAIN FUTURES 12:40   EDT MINNEAPOLIS WHEAT MAY7 284 3/4 UP 1 1/4 JUL7 281 3/4 UP 1 SEP7 277 1/2 UP 1 1/2 DEC7 -- -- MAR8 -- -- \u0003\n",
      "CASH GRAIN SORGHUM PRICES The following cash sorghum prices were reported by trade sources this morning in dlrs per cwt- LOCATION TODAY PREVIOUS Delivered W COAST 4.50-4.55 4.48-4.53 GULF 3.23-3.28 3.27-3.32 FOB Country Points WEST TEXAS 3.20 3.20 TEXAS PANHANDLE 3.05 3.05 Reuter \u0003\n",
      "MIDWEST GRAIN FUTURES 12:50   EDT MINNEAPOLIS WHEAT MAY7 284 3/4 UP 1 1/4 JUL7 281 1/2 UP 3/4 SEP7 277 1/2 UP 1 1/2 DEC7 -- -- MAR8 -- -- \u0003\n",
      "CHICAGO DELIVERABLE WHEAT STOCKS The CFTC reported the following stocks of wheat in Chicago as of Friday, April 3 , deliverable against CBT wheat futures in 000's bushels - CURRENT WEEK YEAR WEEK AGO AGO SOFT RED WINTER 0 0 25 HARD RED WINTER 1639 1635 54 DARK NORTHERN SPRING 0 0 0 NORTHERN SPRING 8 5 0 TOTAL DEL GRADES 1647 1640 79 NON-DEL GRADES/UNGRADED 79 69 15 CCC STOCKS 2584 2584 800 TOTAL WHEAT STOCKS 4310 4293 894 Reuter \u0003\n",
      "MINNEAPOLIS SPRING WHEAT CLOSES HIGHER Spring wheat futures closed 1-3/4 to 3/4 cents higher as some exporter pricing and firm cash demand lent support to an otherwise quiet market, traders said. May closed 1-3/4 cents higher at 2.85-1/4 dlrs. The 14 pct spring wheat cash basis was steady at 38 cents over May despite increased receipts of 186 cars. Milling durum was steady at 3.95 to 4.00 dlrs and terminal quality was unchanged at 3.55 dlrs for Minneapolis and 3.80 dlrs Duluth. Other quotes were unchanged with Duluth sunseed at 7.80 dlrs, number one and two oats at 1.55 to 1.66 dlrs, feed barley at 1.75 dlrs for Duluth and malting barley at 2.00 to 2.05 dlrs. Reuter \u0003\n",
      "DELIVERABLE GRADE GUIDE graded grain meeting exchange quality requirements for futures delivery, excluding CCC-owned grain. Includes all non-CCC deliverable grades regardless of whether receipted and/or registered. Non-del. Grades/Ungraded - Graded grain not meeting exchange quality requirements for futures delivery and ungraded grain, excluding CCC-owned grain. CCC Stocks - grains owned by CCC. Non-deliverable classes or subclasses of grain (e.g. white wheat or white corn) are not included in any of the figures. * year ago data for this category is not available. Reuter \u0003\n",
      "TOLEDO DELIVERABLE WHEAT STOCKS The CFTC reported the following stocks of wheat in Toledo as of Friday, April 3 deliverable against Chicago Board of Trade wheat futures (in 000's bu). CURRENT WEEK YEAR WEEK AGO AGO SOFT RED WINTER 955 1142 1460 HARD RED WINTER 0 0 0 DARK NORTHERN SPRING 0 0 0 NORTHERN SPRING 0 0 0 TOTAL DEL GRADES 955 1142 1460 NON-DEL GRADES/UNGRADED 177 162 0 CCC STOCKS 1803 1783 793 TOTAL WHEAT STOCKS 2935 3087 2253 Reuter \u0003\n",
      "TOLEDO DELIVERABLE CORN STOCKS The CFTC reported the following stocks of corn in Toledo as of Friday, April 3 , deliverable against Chicago Board of Trade futures (in 000's bushels) - CURRENT WEEK YEAR WEEK AGO AGO DEL GRADES 14478 15326 17456 NON-DEL GRADES/UNGRADED 3903 4291 802 CCC STOCKS 9336 9198 2463 TOTAL CORN STOCKS 27717 28815 20721 Reuter \u0003\n",
      "ST LOUIS DELIVERABLE CORN STOCKS The CFTC reported the following stocks of corn in St Louis as of Friday, april 3 , deliverable against Chicago Board of Trade futures in 000's bushels - CURRENT WEEK YEAR WEEK AGO AGO DEL GRADES 640 225 369 NON-DEL GRADES/UNGRADED 0 0 25 CCC STOCKS 397 397 153 TOTAL CORN STOCKS 1037 622 547 Reuter \u0003\n",
      "KANSAS CITY DELIVERABLE GRAIN STOCKS Deliverable grain stocks were reported in federally approved elevators in the Kansas City area on April 3, 1987 as follows. -In 000s of bushels- All hard red winter wheat Deliverable This Week Week Ago Year Ago Stocks 7743 8154 13372 Non-Deliv Stocks/Ungr 417 447 432 CCC Stocks 13730 13639 4592 Total Stocks 21890 22240 18396 Reuter \u0003\n",
      "MINNEAPOLIS DELIVERABLE SPRING WHEAT STOCKS The CFTC reported stocks of northern spring wheat in deliverable positions as of Friday, April 3 (in 000s of bushels). Mpls 4/3/87 Week Ago Year Ago Deliverable 2187 2235 982 Non-Del/Ungr 699 639 305 CCC Stocks 17381 17414 19390 Total Stock 20267 20288 20677 Duluth 4/3/87 Week Ago Year Ago Deliverable 1029 1247 576 Non-Del/Ungr 1165 1350 791 CCC Stocks 16309 16710 20082 Total Stocks 18503 19307 21449 Reuter \u0003\n",
      "NATIONAL AVERAGE PRICES FOR FARMER-OWNED RESERVE The U.S. Agriculture Department reported the farmer-owned reserve national five-day average price through April 7 as follows (Dlrs/Bu-Sorghum Cwt) - Natl Loan Release Call Avge Rate-X Level Price Price Wheat 2.63 2.40 IV 4.65 -- V 4.65 -- VI 4.45 -- Corn 1.38 1.92 IV 3.15 3.15 V 3.25 -- X - 1986 Rates. Natl Loan Release Call Avge Rate-X Level Price Price Oats 1.58 0.99 V 1.65 -- Barley 1.52 1.56 IV 2.55 2.55 V 2.65 -- Sorghum 2.53 3.25-Y IV 5.36 5.36 V 5.54 -- Reserves I, II and III have matured. Level IV reflects grain entered after Oct 6, 1981 for feedgrain and after July 23, 1981 for wheat. Level V wheat/barley after 5/14/82, corn/sorghum after 7/1/82. Level VI covers wheat entered after January 19, 1984. X-1986 rates. Y-dlrs per CWT (100 lbs). Reuter \u0003\n",
      "CBT WHEAT FUTURES RALLY TO CLOSE HIGHER CBT wheat futures rebounded from midsession lows to close 2-1/2 cents to 1/4 cent per bushel higher in light trade. May settled at 2.88-3/4 dlrs after posting a 2-3/4 cent range on the day. After opening higher on followthrough speculative buying after yesterday's technically strong close, setting contract highs in new crop, prices eased on trade talk some countries who were holding buying tenders this week have rejected U.S. offers or have taken wheat from other exporting countries, traders said. However, the strong chart picture and strength in corn and soybeans provided solid background support for wheat. Cargill was the featured seller in new crop July, sparking the midsession selloff. Reuter \u0003\n",
      "KANSAS CITY GULF EXPORT PRICES - USDA Gulf export prices for grain delivered to Gulf export elevators, barge to Louisiana Gulf, rail to Texas Gulf, prompt or 30 day shipment, dollar per bushel, except sorghum per cwt. WINTER WHEAT 1 HARD RED-Ordinary 308-3/4 dn 1-1/4 2 SOFT RED 313-3/4 dn 2-1/2 2 YEL CORN 180-1/2 up 1-1/4-dn 3/4 2 YEL SORGHUM 321-327 dn 2-up 4 2 YEL SOYBEANS 526-3/4-527-3/4 up 1-up 2 reuter \u0003\n",
      "CHICAGO CASH GRAIN BEST BASIS BIDS POSTED BY GRAIN DEALERS AT THE CLOSE - CHICAGO CORN PROCESSORS SPOT, 4 UNDER MAY - UNC L/H APRIL, 1 UNDER MAY - UNC F/H MAY, MAY PRICE - UP 1 EXPORTERS APRIL, 4 UNDER MAY - UNC NEW CROP, 10 UNDER DEC - UNC BURNS HARBOR APRIL, 5 UNDER MAY - UNC MERCHANDISER SPOT, 4 UNDER MAY - UNC CHICAGO OATS MERCHANDISER SPOT, 20 OVER MAY - UNC CHICAGO SOYBEANS EXPORTERS APRIL, 3 UNDER MAY - UNC NEW CROP, 10 UNDER NOV - UNC BURNS HARBOR APRIL, 3 UNDER MAY - UNC MERCHANDISER SPOT, 3 UNDER MAY - UNC CHICAGO SRW WHEAT MILLERS 57 LB SPOT, 35 OVER MAY - UNC ELEVATOR 58 LB SPOT, MAY PRICE - UNC NEW CROP, 7 UNDER JULY - UNC EXPORTERS SPOT, UA NEW CROP, 5 UNDER JULY - UNC MERCHANDISER SPOT, 35 OVER MAY - UNC TOLEDO CORN, SPOT, 5 UNDER MAY - UP 1 SOYBEANS, SPOT, 1 UNDER MAY - UNC SRW WHEAT, SPOT 58 LBS, 35 OVER MAY - UNC ILLINOIS RIVER - SENECA CORN, SPOT, 2-1/2 UNDER MAY - UP 1-1/2 SOYBEANS, SPOT, 5 UNDER MAY - DN 1-1/2 CIF GULF - BARGE CORN, APRIL, 21 OVER MAY - NC SOYBEANS, APRIL, 24 OVER MAY OFFERED - DN 2 SRW WHEAT, UNQUOTED PIK CERTIFICATES - PCT OF FACE VALUE OUT BY APRIL 7, 104-1/2 PCT BID/105-1/4 ASKED - DN 1/2 NC - NO COMPARISON UNC - UNCHANGED Reuter \u0003\n",
      "HOG/CORN RATIO UP IN WEEK - USDA The hog/corn ratio for the week ended April 4 was 32.7 versus 32.1 the previous week and 17.1 in the corresponding week a year ago, the U.S. Agriculture Department said. The steer/corn ratio in the same week was 42.2, versus 41.2 the previous week and 22.9 in the corresponding week a year ago. The ratio represents the number of bushels of corn at Omaha that can be bought for 100 lbs of hog or steer. Reuter \u0003\n",
      "MINNEAPOLIS DAILY CASH GRAIN CLOSE (RAIL) USDA (CENTS PER BUSHEL) Minneapolis/Duluth Cash Close and Change M=Minneapolis, D=Duluth, NB=no bid 1 DNS WHEAT: PROTEIN ord port M-D 268-1/4n up 1-3/4 11 pct M-D 273-1/4n up 1-3/4 12 pct M-D 288-1/4 up 6-3/4 13 PCT M-D 296-1/4 up 1-3/4 14 pct M-D 323-1/4 up 1-3/4 15 pct M-D 375-1/4 up 1-3/4 16 pct M-D 415-1/4 up 1-3/4 17 pct M-D 420-1/4n up 1-3/4 1 HRW WHEAT 12 pct D-M-288-1/4 dn 1/4 13 pct D-M-300-1/4 up 1-3/4 1 Hard Amber Durum Milling M-D 395-400 unch Terminal M-355n unch D-380n unch 1 Pl Rye M-185 unch 2 Rye M-165n-175n unch 1 Hvy Oats M-155n-166n unch 2 Hvy Oats M-155n-166 unch Malting Barley - 65 pct or better Mellow M-200-205 unch Blue M-205 unch 2 Feed M-unq D-175b unch Minneapolis Only 2 Yel Corn 140-1/2b up 2-1/2 1 Yel Soybeans 492-1/2b up 2-3/4 Sun Seeds - oil type M-no quote D-no quote Reuter \u0003\n",
      "KANSAS CITY TRUCK PRICES - USDA FOR SUPPLIES DELIVERED TO K.C. WINTER WHEAT 1 Hard Red-- Ordinary Protein 288-292 dn 1 2 Soft Red 292-293 unch-dn 1 2 YELLOW CORN 158-160 up 2-unch 2 YELLOW SORGHUM 271-282 unch-up 3 1 YELLOW SOYBEANS 499-505 up 5 Reuter \u0003\n",
      "ASCS TERMINAL MARKET VALUES FOR PIK GRAIN The Agricultural Stabilization and Conservation Service (ASCS) has established these unit values for commodities offered from government stocks through redemption of Commodity Credit Corporation commodity certificates, effective through the next business day. Price per bushel is in U.S. dollars. Sorghum is priced per CWT, corn yellow grade only. WHEAT HRW HRS SRW SWW DURUM Chicago --- 3.03 3.24 --- --- Ill. Track --- --- 2.99 --- --- Toledo --- 3.03 3.04 2.99 --- Memphis --- --- 3.07 --- --- Peoria --- --- 2.96 --- --- HRW HRS SRW SWW DURUM Denver 2.65 2.66 --- --- --- Evansville --- --- 3.01 --- --- Cincinnati --- --- 2.99 --- --- Minneapolis 2.70 2.70 --- --- 3.80 Baltimore/ Norf./Phil. --- --- 3.07 2.92 --- Kansas City 2.98 --- 3.18 --- --- St. Louis 2.90 --- 2.90 --- --- Amarillo/ Lubbock 2.64 --- --- --- --- HRW HRS SRW SWW DURUM Lou. Gulf --- --- 3.17 --- --- Portland/ Seattle 3.11 3.12 --- 3.00 3.80 Stockton 2.71 --- --- --- --- L.A. 3.19 --- --- --- 4.20 Duluth 2.70 2.70 --- --- 3.80 Tex. Gulf 3.14 --- 3.17 --- --- CORN BRLY OATS RYE SOYB SORG Chicago 1.55 --- --- --- 5.01 2.63 Ill Track 1.58 2.04 --- --- 5.06 2.70 Toledo 1.55 2.04 1.55 --- 5.04 2.63 Memphis 1.64 1.95 1.76 --- 5.12 2.74 Peoria 1.59 --- --- --- 5.01 2.76 Denver 1.66 1.66 --- --- --- 2.76 Evnsvlle 1.63 2.04 1.55 2.02 5.07 2.77 Cinci 1.60 2.04 1.55 2.04 5.06 2.72 Mpls 1.49 1.75 1.55 1.70 4.92 --- Balt/Nor/ Phil 1.77 1.80 --- --- 5.24 3.04 CORN BRLY OATS RYE SOYB SORG KC 1.55 1.66 1.70 --- 4.94 2.71 St.Lo 1.62 --- 1.71 --- 5.07 2.89 Amarlo/ Lubbck 1.89 1.52 --- --- 4.90 3.17 Lou Gulf 1.81 --- --- --- 5.29 3.26 Port/ Seattle 1.96 2.11 1.55 --- --- --- Stockton 2.30 2.26 1.94 --- --- 3.95 LA 2.67 2.43 --- --- --- 4.58 Duluth 1.49 1.75 1.55 1.70 4.92 --- Tex Gulf 1.79 1.54 1.87 --- 5.29 3.22 Reuter \u0003\n",
      "FOB U.S. GULF CORN VALUES SLIGHTLY FIRMER FOB U.S. gulf corn values were slightly firmer as active gulf interest boosted gulf FOB and CIF values today, exporters said. Loading programs and relatively slow country movement kept gulf interest lively. There were indications that 50,000 tonnes traded for August shipment at 20 cents over September, that 50,000 tonnes traded yesterday for June at 20-1/2 cents over July, and that 25,000 tonnes of number three corn traded yesterday off the Atlantic at 23 over May for May 1-20. Hard wheat offers were firm amid tight pipeline supplies. Dealers quoted the following afternoon FOB U.S. gulf values, basis Chicago futures, except hard red winter wheat basis Kansas City. (In cents per bushel) Corn (Number three grade) April - 23 ov May bid, 26 offered. May - 23 ov May bid, 26 offered. June - 21 ov Jly bid, 23 offered. Soybeans L/H April - No bids, 26 ov May offered. May - No bids, 25 ov May offered. June - No bids, 26 ov Jly offered. HRW wheat April - No bids, 43 ov May offered. May - No bids, 43 ov May offered. June - No bids, 45 ov Jly offered. July - 35 ov Jly bid, 39 offered. August - 35 ov Sep bid, 39 offered. September - 36 ov Sep bid, 40 offered. SRW wheat March - No bids or offers. July - 15 ov Jly bid, 19 offered. August - 15 ov Sep bid, 19 offered. September - 16 ov Sep bid, 23 offered. Reuter \u0003\n",
      "EXPORT BUSINESS - GRAINS/OILSEEDS COMPLEX Grain and oilseed complex export business reported since yesterday by government agencies and private exporters - Japanese crushers bought a total of 5,000 tonnes of Canadian rapeseed in export business overnight for late May/early June shipment...Results still awaited on a tender by Jordan for 225,000 tonnes of U.S. hard and soft wheats for various April/Nov shipments under the U.S. Department of Agriculture's (USDA) export enhancement program... (Continued) - Spain will shortly sign with Saudi Arabia an order for an undisclosed amount of barley for April/May delivery...Sesostris, the Spanish subsidiary of the international grain trader Dreyfus, sold 18,000 tonnes of barley to Greece for April 14/30 delivery via Mediterranean ports. Tenders - nil Market talk and comment - Pakistan was rumored to have rejected offers at its tender today for an additional 6,000 tonnes of Malaysian PBD palm oil... Market talk and comment (continued) - Thailand exported 75,160 tonnes of rice in the week ended March 31, down from 88,785 tonnes the previous week, plus concluded advance weekly sales for 22,086 tonnes against 44,483 tonnes the previous week...Pakistan has offered 50,000 tonnes of rice as emergency aid in Bangladesh's current food crisis, Bangladesh commerce ministry officials told reporters...Honduras will tender April 13 under PL-480 for U.S. and non-U.S. flag vessels to deliver approximately 52,500 tonnes of various wheats in bulk with laydays from June 20 through September 25, an agent for Honduras said... Market talk and comment (continued) - The Commodity Credit Corp reallocated 5.0 mln dlrs in credit guarantees previously earmarked for sales of U.S wheat to cover sales of vegetable oil to Bangladesh, plus authorized 2.0 mln dlrs in credit guarantees to cover sales of seeds to Algeria and transferred 21.0 mln dlrs in credit guarantees previously earmarked for sales of U.S. corn and 5.0 mln dlrs for oilseeds to increase available coverage on sales of U.S. poultry meat to Iraq, the USDA said...Japan was rumored to be tendering tomorrow, April 8, for an undisclosed amount of optional origin wheat for June shipment... Market talk and comment (continued) - Tunisia was rumored to have tendered for 100,000 tonnes of optional origin soft wheat for May/June shipments...Egypt was rumored to be tendering tomorrow for 125,000 tonnes of U.S. wheat flour for May/June shipment using PL-480 allocated funds...Morocco was rumored to be tendering Thursday, April 9, for 120,000 to 210,000 tonnes of U.S. wheat for May/June shipment using PL-480 funds...Egypt was rumored to have withdrawn its tender for 200,000 tonnes of U.S. soft wheat for May/June shipment ...North Yemen was rumored to have taken 75,000 tonnes of Australian wheat for April/May shipment and rejected U.S.... Market talk and comment (continued) - Algeria was rumored to be tendering overnight for optional origin corn...Taiwan was rumored to be tendering overnight for 35,000 tonnes of U.S. sorghum...The Philippines were rumored to have rejected offers at a tender for 450,000 tonnes of spring wheat. Reuter \u0003\n",
      "MADAGASCAR TENDERS FOR 20,000 TONNES SOFT WHEAT Madagascar will tender today for two 10,000-tonne cargoes of soft red winter wheat for last-half July and first-half August shipments with PL480 financing, U.S. exporters said. Reuter \u0003\n",
      "LONDON GRAINS SEE FURTHER NEARBY WHEAT GAINS Old crop supply uncertainties continued to influence nearby wheat prices, particularly in the Liverpool area where the market traded one stg per tonne higher this morning. May parcels of denaturable wheat traded in Liverpool at 129.50 stg per tonne and Apr/Jun at the same price, while April sold in west Norfolk at 123 stg. New crop trade included Jan/Mar deliveries at 113 stg and Apr/Jun at 117 basis Liverpool, and at 111 and 115, respectively, basis west Norfolk. Jan/Mar sold to Avonmouth at 111.75 stg per tonne. The export market for British wheat traded about 0.50 stg higher. April cargoes of 2,400 tonnes sold at 123.50 and Apr/Jun runs at 124 stg per tonne, fob east coast ports. U.K. Grain futures ended the morning firmer, wheat showing gains of 0.50 to 0.20 stg and barley 0.25 to 0.10 stg. Nearby price strength in interior markets continued to influence current crop values. REUTER \u0003\n",
      "NATIONAL AVERAGE PRICES FOR FARMER-OWNED RESERVE The U.S. Agriculture Department reported the farmer-owned reserve national five-day average price through April 6 as follows (Dlrs/Bu-Sorghum Cwt) - Natl Loan Release Call Avge Rate-X Level Price Price Wheat 2.64 2.40 IV 4.65 -- V 4.65 -- VI 4.45 -- Corn 1.40 1.92 IV 3.15 3.15 V 3.25 -- X - 1986 Rates. Natl Loan Release Call Avge Rate-X Level Price Price Oats 1.57 0.99 V 1.65 -- Barley 1.49 1.56 IV 2.55 2.55 V 2.65 -- Sorghum n.a. 3.25-Y IV 5.36 5.36 V 5.54 -- Reserves I, II and III have matured. Level IV reflects grain entered after Oct 6, 1981, for feedgrain and after July 23, 1981, for wheat. Level V wheat/barley after 5/14/82, corn/sorghum after 7/1/82. Level VI covers wheat entered after January 19, 1984. X-1986 rates. Y-dlrs per CWT (100 lbs). n.a.-not available. Reuter \u0003\n",
      "U.S. AGRICULTURE LOAN REPORT The U.S. Agriculture Department released its loan activity report, as of April 1, in mln bushels, with previous week figures underneath.-- 1986 Crops -- Wheat Corn Soybean Under Loan 505.6 4,612.1 321.3 503.9 4,583.0 320.7 Redeemed 206.4 1,357.3 46.1 195.2 1,256.0 42.3 Acquired by CCC 0.2 1.0 0.1 0.1 1.0 0.1 Reserve nil nil n/a nil nil n/a Outstanding 299.0 3,253.8 275.1 308.6 3,326.9 278.3 N/A - not eligible for reserve. 1985 Crops Wheat Corn Soybeans Total Loans 840.8 3,130.1 516.8 840.6 3,129.2 516.8 Redeemed 147.5 590.9 205.8 146.2 587.0 205.6 Acquired by CCC 462.1 1,158.0 260.0 460.7 1,139.6 257.5 Grain Reserve 180.0 786.0 n/a 179.5 774.0 n/a Outstanding 51.2 595.2 51.0 54.2 628.6 53.7 N/A-Not eligible for reserve. 1984 crops Wheat Corn Soybeans Total Loans 284.5 1,097.3 278.3 284.5 1,097.3 278.3 Redeemed 98.4 443.1 126.5 98.2 443.0 126.5 Acquired by CCC 86.8 258.4 150.5 86.8 258.4 150.5 Grain Reserve 98.4 383.8 N/A 98.6 383.8 N/A Outstanding 0.9 12.0 1.3 0.9 12.1 1.3 1985 Crops Cotton-x Rice-y Sorghum-y Total Loans 7,329.7 75.0 200.8 7,329.6 75.0 200.8 Redeemed 6,406.5 56.1 19.5 6,339.3 51.0 19.1 Acquired by CCC 117.1 16.2 136.4 113.8 16.2 135.5 Grain Reserve nil nil 24.4 nil nil 24.1 Outstanding 806.1 2.7 20.5 876.5 7.8 22.1 x - in thousand running bales. y - in mln cwts 1986 Crops (in mln bushels) Cotton-X Rice-Y Sorghum-Y Under Loan 6,016.3 129.5 216.6 5,995.7 129.0 216.0 Redeemed 1,769.7 67.7 37.6 1,635.1 66.3 36.2 Acquired by CCC nil nil nil nil nil nil Reserve N/A N/A nil N/A N/A nil Outstanding 4,246.6 61.8 179.0 4,360.6 62.7 179.8 N/A - Not eligible for reserve. X - in thousand running bales. Y - in mln cwt 1984 Crops Cotton-x Rice-y Sorghum-y Total Loans 2,956.8 57.8 36.4 2,956.8 57.8 36.4 Redeemed 2,273.4 27.0 15.1 2,257.8 27.0 15.1 Acquired by CCC 642.8 30.8 13.2 642.2 30.8 13.2 Grain Reserve nil nil 8.0 nil nil 8.0 Outstanding 40.6 nil 0.1 56.8 nil 0.1 x - in thousand running bales. y - in mln cwts 1985 Crops (In mln bushels) Barley Oats Rye Under Loan 158.4 5.6 4.1 158.3 5.6 4.1 Redeemed 50.7 1.7 0.9 50.4 1.7 0.8 Acquired by CCC 45.5 1.5 2.5 44.9 1.5 2.5 Reserve 42.6 1.3 nil 41.3 1.3 nil Outstanding 19.6 1.1 0.7 20.7 1.1 0.8 1986 Crops (In mln bushels) Barley Oats Rye Under Loan 162.3 7.7 5.7 162.0 7.7 5.7 Redeemed 64.1 3.1 1.7 61.6 2.8 1.7 Acquired by CCC nil nil nil nil nil nil Reserve nil nil nil nil nil nil Outstanding 98.2 4.6 4.0 100.4 4.9 4.0 1984 Crops Barley Oats Rye Under Loan 56.9 3.2 10.1 56.9 3.2 10.1 Redeemed 14.7 2.1 0.2 14.6 2.1 0.2 Acquired by CCC 20.0 0.4 9.9 20.0 0.4 9.9 Reserve 22.0 0.7 nil 22.1 0.7 nil Outstanding 0.2 nil nil 0.2 nil nil Reuter \u0003\n",
      "MIDWEST CASH GRAIN - MODEST MOVEMENT, BIDS FIRM Country movement of corn and soybeans increased modestly this morning, and basis bids were steady to higher, cash grain dealers said. Basis bids firmed in response to lower rates for barge freight, traders said, noting that the Ohio River is swelling with snow runoff, discouraging barge loadings because of the high water levels. Moderate bookings continued in new crop soybeans, mostly for January 1988 delivery, with farmers pricing at least a portion of their crop at five dlrs a bushel or better when bids emerge at that level, they said. Movement in Iowa was expected to slow considerably in the next few days, as farmers are beginning field work, they said. Dealers bid 104 and offered 106 pct for PIK certificates. CORN SOYBEANS TOLEDO 5 UND MAY UP 1 2 UND MAY UNC CINCINNATI 1 OVR MAY UP 2 3 OVR MAY UP 2 NEW HAVEN 12 UND MAY UNC 4 UND MAY UNC N.E. INDIANA 11 UND MAY UNC MAY PRICE UNC CHICAGO 4 UND MAY UNC 3 UND MAY UP 2 PEKIN 2 UND MAY UP 1 2 UND MAY UP 1 DECATUR 1 UND MAY UNC 2 OVR MAY UNC DAVENPORT 3 UND MAY UP 3 4 UND MAY UP 1 CEDAR RAPIDS 9 UND MAY UP 1 14 UND MAY UP 1 HRW WHEAT TOLEDO 58 LB 25 OVR MAY UNC CHICAGO 57 LB 35 OVR MAY UNC CINCINNATI DP 10 OVR MAY UNC NE INDIANA DP 10 OVR MAY UNC PIK CERTIFICATES - 104 PCT BID/106 PCT OFRD UNC NC - NO COMPARISON UA - UNAVAILABLE UNC - UNCHANGED DP - DELAYED PRICING Reuter \u0003\n",
      "MIDWEST CASH GRAIN - MODEST MOVEMENT, BIDS FIRM Country movement of corn and soybeans increased modestly this morning, and basis bids were steady to higher, cash grain dealers said. Basis bids firmed in response to lower rates for barge freight, traders said, noting that the Ohio River is swelling with snow runoff, discouraging barge loadings because of the high water levels. Moderate bookings continued in new crop soybeans, mostly for January 1988 delivery, with farmers pricing at least a portion of their crop at five dlrs a bushel or better when bids emerge at that level, they said. Movement in Iowa was expected to slow considerably in the next few days, as farmers are beginning field work, they said. Dealers bid 104 and offered 106 pct for PIK certificates. Reuter \u0003\n",
      "CBT CORN FUTURES EXPECTED STEADY TO FIRMER CBT corn futures were expected to open steady to firmer, supported by a much larger than expected weekly corn export inspection figure yesterday, traders said. Modest country movement will allow an initial advance. ---- Original holders of expired generic commodity certificates that expired from December 31, 1986, through March 31, 1987, may exchange the certificates for cash, the USDA said...The USDA reported U.S. soybean export inspections totalled 10,844,000 bushels in the week ended April 2, compared to 17,683,000 the previous week and 13,979,000 bushels in the year ago week, with wheat 16,363,000 bushels, 20,717,000 and 11,253,000 respectively and corn 46,652,000 bushels, 36,581,000 and 13,844,000 bushels respectively. Reuter \u0003\n",
      "CBT WHEAT FUTURES EXPECTED TO OPEN STEADY CBT wheat futures were expected to open steady, supported by followthrough speculative buying after yesterday's strong close when new contract highs were set in new crop, traders said. However, rumors that several countries have passed on their tenders for U.S. wheat or taken wheat from other exporting countries may keep nearbys on the defensive. ---- The USDA will issue this week a swap catalogue of government-owned grain that storage-surplus elevators will be able to swap with storage-deficit locations, a senior USDA official said...Wheat and rapeseed crops in east China suffered considerable damage due to frost during a spell of unusually cold weather in late March, the China daily said. Reuter \u0003\n",
      "ARGENTINE GRAIN/OILSEED EXPORT PRICES ADJUSTED The Argentine Grain Board yesterday adjusted minimum export prices of grain and oilseed products in dlrs per tonne FOB, previous in brackets, as follows: Maize 70 (71), linseed oil 264 (265). Linseed cake and expellers 136 (137), pellets 114 (115) and meal 104 (105), all for shipments through June. Soybean cake and expellers 170 (169), pellets 163 (164) and meal 153 (152), all for shipments through May. Soybean cake and expellers 167 (166), pellets 160 (161) and meal 150 (149), all for shipments June onwards. The board also adjusted export prices at which export taxes are levied on soybean for shipments May onwards to 177 dlrs per tonne FOB from 176. The resolution adjusting the export prices was signed yesterday but released today. REUTER \u0003\n",
      "EARLY GULF CASH SOYBEANS SLIGHTLY FIRMER Early gulf cash soybean basis levels were slightly firmer in moderate trading as slow country movement lent support, dealers said. Lower barge freight rates lent some support, but slow export dealings limited gains. Soybean export inspections were below trade expectations at 10.8 mln bushels. April and May traded late yesterday at 25 cents over May, and July traded down to 24 over July. Gulf cash corn values were firm amid very strong export inspections of 46.7 mln bushels. Hard wheat gulf values were firm nearby amid ongoing export dealings and slow movement. Corn (Barges - Basis Chgo futures) April - 21 ov May bid, 22 offered. May - 21 ov May bid, 22 offered. June - 18 ov Jly bid, 19 offered. Soybeans (Barges - Basis Chgo futures) April 1/10 - 25-1/2 ov May bid, 26-1/2 off. F/H April - 25 ov May bid, 26 offered. April - 24 ov May bid, 25 offered. Hard wheat (Rail, 40 DHV, basis K.C. fut.) F/H April - 39 ov May bid, no offers. April - 36 ov May bid, no offers. F/H May - 43 ov May bid, no offers. L/H May - 38 ov May bid, no offers. F/H June - 38 ov Jly bid, no offers. L/H June - 34 ov Jly bid, no offers. July - 34 ov Jly bid, no offers. Soft wheat (Barges - Basis Chgo futures) June - 13 ov Jly bid, 15 offered. July - 13 ov Jly bid, 15 offered. Reuter \u0003\n",
      "ARGENTINE GRAIN BELT WEATHER REPORT ARGENTINE GRAIN BELT TEMPERATURES (CENTIGRADE) AND RAIN (MM) IN THE 24 HOURS TO 12.00 GMT WERE: ...............MAX TEMP..MIN TEMP..RAINFALL BUENOS AIRES.......27.......21............4 BAHIA BLANCA.......29.......16............0 TRES ARROYOS.......28.......16............0 TANDIL.............--.......15............5 JUNIN..............29.......18............5 SANTA ROSA.........--.......--...........-- CORDOBA............30.......17............0 SANTA FE...........--.......22............0 REUTER \u0003\n",
      "MIDWEST GRAIN FUTURES 10:50   EDT MINNEAPOLIS WHEAT MAY7 284 1/2 UP 1 JUL7 280 1/4 OFF 1/2 SEP7 276 1/2 UP 1/2 DEC7 -- -- MAR8 -- -- \u0003\n",
      "CBT CORN FUTURES TRADE QUIETLY MIXED EARLY CBT corn futures traded firmer early, holding gains of 1-1/4 cents to 3/4 cent per bushel in moderately light early trade. Yesterday's sharp jump in the weekly corn export figure to about three times last year's weekly inspections, plus the outlook for a continued active export pace due to the decline in the U.S. dollar this year, supported nearbys, traders said. Cargill, the Illinois Co-op, Refco and ADM were the featured buyers of old crop May, with CIS a buyer in new crop December, pit brokers said. Reuter \u0003\n",
      "ZIMBABWE'S MAIZE MOUNTAIN POSES ECONOMIC PROBLEM More than two mln tonnes of surplus maize dotted across Zimbabwe in huge piles is posing an economic headache for the country. The grain, Southern Africa's staple, has been bought by the Grain Marketing Board (GMB) at prices guaranteed before it was planted, and is costing the GMB about 27 mln dlrs a month in storage and interest payments to make the purchases. Accumulated over the past two years of bumper harvests, the surplus represents about two years of domestic consumption and is set to grow as further deliveries are due shortly. Some deals have been made with aid donors, such as European countries and Australia, to provide Zimbabwe with wheat in return for maize sent to neighbouring Mozambique, where the United Nations has urged greater world efforts to feed the hungry. But transport constraints keep those figures low and the only significant dent was a sale of 250,000 tonnes to South Africa last year. Because of the costs it has incurred, the GMB cannot afford to give the maize away and the standard 90 kg bags have been accumulating, economists here said. But failure to find buyers on glutted world grain markets is damaging Zimbabwe, as it needs foreign exchange to finance imports for other areas of the economy, the economists added. \"At present, it is a no-win situation. Let us hope some of the extra aid (UN) Secretary General Javier Perez de Cuellar called for at the weekend will be spent here,\" a Western aid specialist said. \"At least this year's poor rains haven't exacerbated the situation too badly,\" he added. Rainfall during the current rainy season has been far below average, ravaging all but the irrigated lands of large commercial farmers. While this may curb the amount of maize delivered this year to the GMB, the government also acted late last year to slash maize production and force diversification. Calling for a switch to other crops such as oilseeds, Agriculture Minister Moven Mahachi said an economically-viable price of 180 dlrs a tonne would be paid this year for only half the amount of maize bought by the GMB in 1986, and above that growers would be paid an unprofitable 100 dlrs. The poor rains have also adversely affected other crops, such as sorghum, soybeans, groundnuts, tobacco and cotton, the Agriculture Ministry reported at the end of February. Reuter \u0003\n"
     ]
    }
   ],
   "source": [
    "for i in range(len(test_data)):\n",
    "    if(result[4]['predict'][i] == 1):\n",
    "        print(test_data[i])"
   ]
  }
 ],
 "metadata": {
  "kernelspec": {
   "display_name": "Python [Root]",
   "language": "python",
   "name": "Python [Root]"
  },
  "language_info": {
   "codemirror_mode": {
    "name": "ipython",
    "version": 2
   },
   "file_extension": ".py",
   "mimetype": "text/x-python",
   "name": "python",
   "nbconvert_exporter": "python",
   "pygments_lexer": "ipython2",
   "version": "2.7.12"
  }
 },
 "nbformat": 4,
 "nbformat_minor": 0
}
