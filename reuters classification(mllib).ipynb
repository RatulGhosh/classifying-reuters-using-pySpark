{
 "cells": [
  {
   "cell_type": "code",
   "execution_count": 1,
   "metadata": {
    "collapsed": false
   },
   "outputs": [],
   "source": [
    "from __future__ import print_function\n",
    "\n",
    "import time\n",
    "import re\n",
    "import os.path\n",
    "import fnmatch\n",
    "import sgmllib\n",
    "import urllib\n",
    "import tarfile\n",
    "\n",
    "import numpy as np\n",
    "import pylab as pl\n",
    "\n",
    "from sklearn.feature_extraction.text import HashingVectorizer\n",
    "from sklearn.feature_extraction.text import TfidfVectorizer\n",
    "from sklearn.linear_model.stochastic_gradient import SGDClassifier\n",
    "import itertools\n",
    "\n",
    "from pyspark import SparkContext"
   ]
  },
  {
   "cell_type": "code",
   "execution_count": 10,
   "metadata": {
    "collapsed": false
   },
   "outputs": [],
   "source": [
    "def _not_in_sphinx():\n",
    "    return '__file__' in globals()\n",
    "class ReutersParser(sgmllib.SGMLParser):\n",
    "    def __init__(self, verbose=1):\n",
    "        sgmllib.SGMLParser.__init__(self, verbose)\n",
    "        self._reset()\n",
    "\n",
    "    def _reset(self):\n",
    "        self.in_title = 0\n",
    "        self.in_body = 0\n",
    "        self.in_topics = 0\n",
    "        self.in_topic_d = 0\n",
    "        self.title = \"\"\n",
    "        self.body = \"\"\n",
    "        self.topics = []\n",
    "        self.topic_d = \"\"\n",
    "\n",
    "    def parse(self, fd):\n",
    "        self.docs = []\n",
    "        for chunk in fd:\n",
    "            self.feed(chunk)\n",
    "            for doc in self.docs:\n",
    "                yield doc\n",
    "            self.docs = []\n",
    "        self.close()\n",
    "\n",
    "    def handle_data(self, data):\n",
    "        if self.in_body:\n",
    "            self.body += data\n",
    "        elif self.in_title:\n",
    "            self.title += data\n",
    "        elif self.in_topic_d:\n",
    "            self.topic_d += data\n",
    "\n",
    "    def start_reuters(self, attributes):\n",
    "        pass\n",
    "\n",
    "    def end_reuters(self):\n",
    "        self.body = re.sub(r'\\s+', r' ', self.body)\n",
    "        self.docs.append({'title': self.title,\n",
    "                          'body': self.body,\n",
    "                          'topics': self.topics})\n",
    "        self._reset()\n",
    "\n",
    "    def start_title(self, attributes):\n",
    "        self.in_title = 1\n",
    "\n",
    "    def end_title(self):\n",
    "        self.in_title = 0\n",
    "\n",
    "    def start_body(self, attributes):\n",
    "        self.in_body = 1\n",
    "\n",
    "    def end_body(self):\n",
    "        self.in_body = 0\n",
    "\n",
    "    def start_topics(self, attributes):\n",
    "        self.in_topics = 1\n",
    "\n",
    "    def end_topics(self):\n",
    "        self.in_topics = 0\n",
    "\n",
    "    def start_d(self, attributes):\n",
    "        self.in_topic_d = 1\n",
    "\n",
    "    def end_d(self):\n",
    "        self.in_topic_d = 0\n",
    "        self.topics.append(self.topic_d)\n",
    "        self.topic_d = \"\"\n"
   ]
  },
  {
   "cell_type": "code",
   "execution_count": 11,
   "metadata": {
    "collapsed": false
   },
   "outputs": [],
   "source": [
    "class ReutersStreamReader():\n",
    "\n",
    "    DOWNLOAD_URL = ('http://archive.ics.uci.edu/ml/machine-learning-databases/'\n",
    "                    'reuters21578-mld/reuters21578.tar.gz')\n",
    "    ARCHIVE_FILENAME = 'reuters21578.tar.gz'\n",
    "\n",
    "    def __init__(self, data_path):\n",
    "        self.data_path = data_path\n",
    "        if not os.path.exists(self.data_path):\n",
    "            self.download_dataset()\n",
    "\n",
    "    def download_dataset(self):\n",
    "        \"\"\"Download the dataset.\"\"\"\n",
    "        print(\"downloading dataset (once and for all) into %s\" %\n",
    "              self.data_path)\n",
    "        os.mkdir(self.data_path)\n",
    "\n",
    "        def progress(blocknum, bs, size):\n",
    "            total_sz_mb = '%.2f MB' % (size / 1e6)\n",
    "            current_sz_mb = '%.2f MB' % ((blocknum * bs) / 1e6)\n",
    "            if _not_in_sphinx():\n",
    "                print('\\rdownloaded %s / %s' % (current_sz_mb, total_sz_mb),\n",
    "                      end='')\n",
    "        urllib.urlretrieve(self.DOWNLOAD_URL,\n",
    "                           filename=os.path.join(self.data_path,\n",
    "                                                 self.ARCHIVE_FILENAME),\n",
    "                           reporthook=progress)\n",
    "        if _not_in_sphinx():\n",
    "            print('\\r', end='')\n",
    "        print(\"untaring data ...\")\n",
    "        tfile = tarfile.open(os.path.join(self.data_path,\n",
    "                                          self.ARCHIVE_FILENAME),\n",
    "                             'r:gz')\n",
    "        tfile.extractall(self.data_path)\n",
    "        print(\"done !\")\n",
    "\n",
    "    def iterdocs(self):\n",
    "        \"\"\"Iterate doc by doc, yield a dict.\"\"\"\n",
    "        for root, _dirnames, filenames in os.walk(self.data_path):\n",
    "            for filename in fnmatch.filter(filenames, '*.sgm'):\n",
    "                path = os.path.join(root, filename)\n",
    "                parser = ReutersParser()\n",
    "                for doc in parser.parse(open(path)):\n",
    "                    yield doc"
   ]
  },
  {
   "cell_type": "code",
   "execution_count": 12,
   "metadata": {
    "collapsed": false
   },
   "outputs": [
    {
     "data": {
      "text/plain": [
       "<generator object iterdocs at 0x7f0ba9957e60>"
      ]
     },
     "execution_count": 12,
     "metadata": {},
     "output_type": "execute_result"
    }
   ],
   "source": [
    "ReutersStreamReader('reuters').iterdocs()"
   ]
  },
  {
   "cell_type": "code",
   "execution_count": null,
   "metadata": {
    "collapsed": true
   },
   "outputs": [],
   "source": []
  },
  {
   "cell_type": "code",
   "execution_count": null,
   "metadata": {
    "collapsed": true
   },
   "outputs": [],
   "source": []
  },
  {
   "cell_type": "code",
   "execution_count": 13,
   "metadata": {
    "collapsed": false
   },
   "outputs": [],
   "source": [
    "data_streamer = ReutersStreamReader('reuters').iterdocs()\n",
    "\n",
    "positive_class = ['acq', 'corn', 'crude', 'earn', 'grain', 'interest', 'money-fx', 'ship', 'trade', 'wheat']"
   ]
  },
  {
   "cell_type": "code",
   "execution_count": 7,
   "metadata": {
    "collapsed": false
   },
   "outputs": [],
   "source": [
    "temp = sc.parallelize(data_streamer)"
   ]
  },
  {
   "cell_type": "code",
   "execution_count": 9,
   "metadata": {
    "collapsed": false
   },
   "outputs": [
    {
     "data": {
      "text/plain": [
       "21578"
      ]
     },
     "execution_count": 9,
     "metadata": {},
     "output_type": "execute_result"
    }
   ],
   "source": [
    "len(temp.collect())"
   ]
  },
  {
   "cell_type": "code",
   "execution_count": 79,
   "metadata": {
    "collapsed": false,
    "scrolled": true
   },
   "outputs": [
    {
     "data": {
      "text/plain": [
       "[{'body': '',\n",
       "  'title': \"TREASURY'S BAKER SAYS MACROECONOMIC INDICATORS NEED MORE PROMINENT ROLE\\n\",\n",
       "  'topics': ['james-baker']},\n",
       " {'body': '',\n",
       "  'title': 'HOSPITAL CORP SAYS IT RECEIVED 47 DLR A SHARE OFFER FROM INVESTOR GROUP\\n',\n",
       "  'topics': ['acq']},\n",
       " {'body': 'Qtly div five cts vs five cts prior Pay July 13 Record June 30 Reuter \\x03',\n",
       "  'title': 'BEVERLY ENTERPRISES <BEV> SETS REGULAR DIVIDEND',\n",
       "  'topics': ['earn', 'usa']},\n",
       " {'body': '',\n",
       "  'title': \"TREASURY'S BAKER SAYS FLOATING EXCHANGE RATE SYSTEM NEEDS GREATER STABILITY\\n\",\n",
       "  'topics': ['money-fx', 'james-baker']},\n",
       " {'body': 'Crude oil netback values in complex refineries rose sharply in Europe and firmed in the U.S. last Friday from the previous week but fell sharply in Singapore, according to calculations by Reuters Pipeline. The firmer tone to refining margins in Europe and the U.S. relected higher prices for petroleum products, particularly gasoline, and support from crude oil prices. Netback values for crude oil refined in Northern Europe rose substantially following strong gains in gasoline prices there. Brent is valued at 19.45 dlrs, up 56 cts a barrel or three pct from the previous week. In the U.S. Gulf, sweet crudes rose in value by 14 cts to 19.33 dlrs for West Texas Intermediate, up about 0.7 pct. Sour grades in the U.S. Gulf showed an increase of 33 cts a barrel for Alaska North Slope, up 1.7 pct. But netbacks for crude oil refined in Singapore fell sharply, down 15 cts to as much as 68 cts a barrel as ample distillate supplies weighed on petroleum product prices. Attaka in Singapore is valued at 18.55 dlrs, a decline of 68 cts a barrel or 3.5 pct from the previous week. For refineries in the Mediterranean, netback values were mostly lower, with declines of seven to 14 cts. The value of Kuwait crude fell 14 cts to 18.37 dlrs, while Iranian Light fell 11 cts to 19.14 dlrs. On the U.S. West Coast, netback values for ANS CIF L.A. also jumped sharply, up 40 cts a barrel or 2.2 pct to 18.82 dlrs on higher gasoline prices. Reuter \\x03',\n",
       "  'title': 'CRUDE OIL NETBACKS UP SHARPLY IN EUROPE, U.S.',\n",
       "  'topics': ['crude', 'usa']}]"
      ]
     },
     "execution_count": 79,
     "metadata": {},
     "output_type": "execute_result"
    }
   ],
   "source": [
    "temp.take(5)"
   ]
  },
  {
   "cell_type": "code",
   "execution_count": 10,
   "metadata": {
    "collapsed": true
   },
   "outputs": [],
   "source": [
    "train = temp.filter(lambda s: s['topics'] != [])"
   ]
  },
  {
   "cell_type": "code",
   "execution_count": 11,
   "metadata": {
    "collapsed": false
   },
   "outputs": [
    {
     "data": {
      "text/plain": [
       "19716"
      ]
     },
     "execution_count": 11,
     "metadata": {},
     "output_type": "execute_result"
    }
   ],
   "source": [
    "len(train.collect())"
   ]
  },
  {
   "cell_type": "code",
   "execution_count": 12,
   "metadata": {
    "collapsed": true
   },
   "outputs": [],
   "source": [
    "test = temp.filter(lambda s: s['topics'] == [])"
   ]
  },
  {
   "cell_type": "code",
   "execution_count": 13,
   "metadata": {
    "collapsed": false
   },
   "outputs": [],
   "source": [
    "test = test.map(lambda s: s['title']+\" \"+s['body'])"
   ]
  },
  {
   "cell_type": "code",
   "execution_count": 14,
   "metadata": {
    "collapsed": false
   },
   "outputs": [],
   "source": [
    "test_data = test.collect()"
   ]
  },
  {
   "cell_type": "code",
   "execution_count": 15,
   "metadata": {
    "collapsed": false
   },
   "outputs": [
    {
     "data": {
      "text/plain": [
       "1862"
      ]
     },
     "execution_count": 15,
     "metadata": {},
     "output_type": "execute_result"
    }
   ],
   "source": [
    "len(list(test.collect()))"
   ]
  },
  {
   "cell_type": "code",
   "execution_count": 16,
   "metadata": {
    "collapsed": false
   },
   "outputs": [
    {
     "data": {
      "text/plain": [
       "['GENERAL NUTRITION FILES FOR SECONDARY OFFERING OF EIGHT MLN COMMON SHARES\\n ',\n",
       " 'TEXACO NOT REQUIRED TO POST BOND IN APPEAL OF PENNZOIL JUDGMENT, COURT SAYS\\n ',\n",
       " \"MOODY'S MAY DOWNGRADE IRVING BANK CORP, AFFECTS 950 MLN DLRS OF DEBT\\n \"]"
      ]
     },
     "execution_count": 16,
     "metadata": {},
     "output_type": "execute_result"
    }
   ],
   "source": [
    "test.take(3)"
   ]
  },
  {
   "cell_type": "code",
   "execution_count": 18,
   "metadata": {
    "collapsed": false
   },
   "outputs": [],
   "source": [
    "target = []\n",
    "for i in range(10):\n",
    "    target.append((train.map(lambda s : positive_class[i] in s['topics'])).collect())"
   ]
  },
  {
   "cell_type": "code",
   "execution_count": 19,
   "metadata": {
    "collapsed": false
   },
   "outputs": [
    {
     "data": {
      "text/plain": [
       "(10, 19716)"
      ]
     },
     "execution_count": 19,
     "metadata": {},
     "output_type": "execute_result"
    }
   ],
   "source": [
    "target = np.array(target)\n",
    "target.shape"
   ]
  },
  {
   "cell_type": "code",
   "execution_count": 20,
   "metadata": {
    "collapsed": false
   },
   "outputs": [
    {
     "data": {
      "text/plain": [
       "array([False,  True, False, ...,  True, False, False], dtype=bool)"
      ]
     },
     "execution_count": 20,
     "metadata": {},
     "output_type": "execute_result"
    }
   ],
   "source": [
    "target[0]"
   ]
  },
  {
   "cell_type": "code",
   "execution_count": 24,
   "metadata": {
    "collapsed": false
   },
   "outputs": [],
   "source": [
    "x_train = train.map(lambda s: s['title']+\" \"+s['body'])"
   ]
  },
  {
   "cell_type": "code",
   "execution_count": 25,
   "metadata": {
    "collapsed": false
   },
   "outputs": [
    {
     "data": {
      "text/plain": [
       "[\"TREASURY'S BAKER SAYS MACROECONOMIC INDICATORS NEED MORE PROMINENT ROLE\\n \",\n",
       " 'HOSPITAL CORP SAYS IT RECEIVED 47 DLR A SHARE OFFER FROM INVESTOR GROUP\\n ',\n",
       " 'BEVERLY ENTERPRISES <BEV> SETS REGULAR DIVIDEND Qtly div five cts vs five cts prior Pay July 13 Record June 30 Reuter \\x03']"
      ]
     },
     "execution_count": 25,
     "metadata": {},
     "output_type": "execute_result"
    }
   ],
   "source": [
    "x_train.take(3)"
   ]
  },
  {
   "cell_type": "code",
   "execution_count": null,
   "metadata": {
    "collapsed": true
   },
   "outputs": [],
   "source": []
  },
  {
   "cell_type": "code",
   "execution_count": 26,
   "metadata": {
    "collapsed": false,
    "scrolled": true
   },
   "outputs": [],
   "source": [
    "from pyspark.mllib.feature import HashingTF, IDF\n",
    "\n",
    "documents = x_train.map(lambda line: line.split(\" \"))\n",
    "hashingTF = HashingTF()\n",
    "tf = hashingTF.transform(documents)\n",
    "tf.cache()\n",
    "idfIgnore = IDF(minDocFreq=2).fit(tf)\n",
    "tfidfIgnore = idfIgnore.transform(tf)"
   ]
  },
  {
   "cell_type": "code",
   "execution_count": 27,
   "metadata": {
    "collapsed": false
   },
   "outputs": [],
   "source": [
    "train = tfidfIgnore.collect()"
   ]
  },
  {
   "cell_type": "code",
   "execution_count": 160,
   "metadata": {
    "collapsed": false
   },
   "outputs": [
    {
     "data": {
      "text/plain": [
       "array([False,  True, False, ...,  True, False, False], dtype=bool)"
      ]
     },
     "execution_count": 160,
     "metadata": {},
     "output_type": "execute_result"
    }
   ],
   "source": [
    "target[0]"
   ]
  },
  {
   "cell_type": "code",
   "execution_count": 22,
   "metadata": {
    "collapsed": false
   },
   "outputs": [
    {
     "data": {
      "text/plain": [
       "[{'body': '',\n",
       "  'title': \"TREASURY'S BAKER SAYS MACROECONOMIC INDICATORS NEED MORE PROMINENT ROLE\\n\",\n",
       "  'topics': ['james-baker']},\n",
       " {'body': '',\n",
       "  'title': 'HOSPITAL CORP SAYS IT RECEIVED 47 DLR A SHARE OFFER FROM INVESTOR GROUP\\n',\n",
       "  'topics': ['acq']}]"
      ]
     },
     "execution_count": 22,
     "metadata": {},
     "output_type": "execute_result"
    }
   ],
   "source": [
    "train.take(2)"
   ]
  },
  {
   "cell_type": "code",
   "execution_count": 28,
   "metadata": {
    "collapsed": false
   },
   "outputs": [],
   "source": [
    "from pyspark.mllib.regression import LabeledPoint\n",
    "total_data = []\n",
    "for j in range(10):\n",
    "    sparse_data = []\n",
    "    for i in range(19716):\n",
    "        sparse_data.append(LabeledPoint(target[j][i], train[i]))\n",
    "    total_data.append(sparse_data)"
   ]
  },
  {
   "cell_type": "code",
   "execution_count": 162,
   "metadata": {
    "collapsed": false
   },
   "outputs": [
    {
     "data": {
      "text/plain": [
       "19716"
      ]
     },
     "execution_count": 162,
     "metadata": {},
     "output_type": "execute_result"
    }
   ],
   "source": [
    "len(total_data[0])"
   ]
  },
  {
   "cell_type": "code",
   "execution_count": 29,
   "metadata": {
    "collapsed": false
   },
   "outputs": [],
   "source": [
    "from pyspark.mllib.classification import LogisticRegressionWithSGD\n",
    "from pyspark.mllib.classification import LogisticRegressionWithLBFGS\n",
    "from pyspark.mllib.classification import SVMWithSGD\n",
    "lrm = []\n",
    "for i in range(10):\n",
    "    #lrm.append(LogisticRegressionWithSGD.train(sc.parallelize(total_data[i]), iterations=100))\n",
    "    #lrm.append(LogisticRegressionWithLBFGS.train(sc.parallelize(total_data[i]), iterations=100))\n",
    "    svm = SVMWithSGD.train(sc.parallelize(total_data[i]), iterations=10)"
   ]
  },
  {
   "cell_type": "code",
   "execution_count": 30,
   "metadata": {
    "collapsed": false
   },
   "outputs": [],
   "source": [
    "from pyspark.mllib.feature import HashingTF, IDF\n",
    "\n",
    "documents = test.map(lambda line: line.split())\n",
    "hashingTF = HashingTF()\n",
    "tf = hashingTF.transform(documents)\n",
    "tf.cache()\n",
    "idfIgnore = IDF(minDocFreq=2).fit(tf)\n",
    "tfidfIgnore = idfIgnore.transform(tf)"
   ]
  },
  {
   "cell_type": "code",
   "execution_count": 31,
   "metadata": {
    "collapsed": true
   },
   "outputs": [],
   "source": [
    "test = tfidfIgnore.collect()"
   ]
  },
  {
   "cell_type": "code",
   "execution_count": 32,
   "metadata": {
    "collapsed": false
   },
   "outputs": [
    {
     "data": {
      "text/plain": [
       "SparseVector(1048576, {9889: 0.0, 95279: 5.4505, 148230: 4.965, 170239: 0.0, 223924: 5.584, 267881: 2.5741, 281798: 3.2125, 377013: 4.8219, 599150: 4.5342, 781260: 2.9656, 812768: 4.5342})"
      ]
     },
     "execution_count": 32,
     "metadata": {},
     "output_type": "execute_result"
    }
   ],
   "source": [
    "test[0]"
   ]
  },
  {
   "cell_type": "code",
   "execution_count": 208,
   "metadata": {
    "collapsed": false
   },
   "outputs": [],
   "source": [
    "result = []\n",
    "for i in range(1):\n",
    "    stat = []\n",
    "    for j in range(1862):\n",
    "        stat.append(svm.predict(test[j]))\n",
    "    result.append(stat)"
   ]
  },
  {
   "cell_type": "code",
   "execution_count": null,
   "metadata": {
    "collapsed": true
   },
   "outputs": [],
   "source": []
  },
  {
   "cell_type": "code",
   "execution_count": 209,
   "metadata": {
    "collapsed": false,
    "scrolled": true
   },
   "outputs": [
    {
     "name": "stdout",
     "output_type": "stream",
     "text": [
      "GENERAL NUTRITION FILES FOR SECONDARY OFFERING OF EIGHT MLN COMMON SHARES\n",
      " \n",
      "TEXACO NOT REQUIRED TO POST BOND IN APPEAL OF PENNZOIL JUDGMENT, COURT SAYS\n",
      " \n",
      "MOODY'S MAY DOWNGRADE IRVING BANK CORP, AFFECTS 950 MLN DLRS OF DEBT\n",
      " \n",
      "SEARS ROEBUCK SAID IT WILL REDEEM ALL ADJUSTABLE RATE PREFERRED SHARES, FIRST SERIES\n",
      " \n",
      "MOODY'S DOWNGRADES TEXACO'S 8.2 BILLION DLRS OF DEBT TO 'CAA'\n",
      " \n",
      "MOODY'S DOWNGRADES BANKERS TRUST, AFFECTS 1.7 BILLION DLRS OF DEBT\n",
      " \n",
      "Toshiba group net 34.18 billion yen (59.44 billion) year to March 31\n",
      " \n",
      "KOREA ELECTRIC POWER PLANS FIRST EUROYEN BOND Korea Electric Power Corp plans to issue its first euroyen bond, a 7.5 billion yen issue with six-year maturity carrying a coupon of less than five pct, company officials said. They said the bond would be launched in London later this month with Daiwa Securities Co Ltd as lead manager. The officials gave no further details. REUTER \u0003\n",
      "TOKYO STOCK INDEX RISES 91.19 POINTS TO RECORD CLOSING 24,992.78 - BROKERS\n",
      " \n",
      "Japan May external reserves hit record 68.94 billion dlrs (April 68.62 billion)\n",
      " \n",
      " Lebanon Prime Minister Karami dies of injuries, after helicopter attacked -official sources\n",
      " \n",
      "WHITTAKER CORP 2nd QTR SHR PROFIT 37 CTS VS LOSS 35 CTS\n",
      " \n",
      "FLUOR RETAINS SHEARSON TO ASSESS VALUE OF GOLD OPERATIONS\n",
      " \n",
      " \n",
      "HOG AND CATTLE SLAUGHTER GUESSTIMATES Chicago Mercantile Exchange floor traders and commission house representatives are guesstimating today's hog slaughter at about 275,000 to 285,000 head versus 12,000 week ago and 276,000 a year ago. Cattle slaughter is guesstimated at about 126,000 to 132,000 head versus 6,000 week ago and 133,000 a year ago. Note: week ago figures reduced by Memorial Day holiday. Reuter \u0003\n",
      "U.S. APRIL CONSTRUCTION SPENDING ROSE 0.4 PCT AFTER REVISED 1.1 PCT MARCH DROP\n",
      " \n",
      "THOMPSON MEDICAL SAYS 1,290,000 SHARES TENDERED IN RESPONSE TO BID FOR ONE MLN\n",
      " \n",
      "FRENCH 13-WEEK T-BILL AVERAGE RATE FALLS TO 7.72 PCT FROM 7.75 PCT - OFFICIAL\n",
      " \n",
      "ROBERT MAXWELL SAID HE SUING TO STOP HARCOURT BRACE PAYING SPECIAL DIVIDEND\n",
      " \n",
      "INT'L MINERALS/CHEMICAL GETS EPA APPROVAL FOR GENETICALLY ENGINEERED PRODUCT\n",
      " \n",
      "LITTON INDUSTRIES UNIT GETS 223.2 MLN DLR NAVY CONTRACT\n",
      " \n",
      "MIDDLE SOUTH SAYS U.S. SUPREME COURT STAYS RULING DENYING MISSISSIPPI RATES\n",
      " \n",
      "ALLIED-SIGNAL SAID IT SOLD MPB CORP FOR 145 MLN DLRS, ASSUMPTION OF DEBT\n",
      " \n",
      "U.S. SELLS 3-MO BILLS AT 5.81 PCT, STOP 5.82 PCT, 6-MO 6.10 PCT, STOP 6.11 PCT\n",
      " \n",
      "MOODY'S AFFIRMS MIDDLE SOUTH AND UNITS, AFFECTS FOUR BILLION DLRS OF DEBT\n",
      " \n",
      "GM MAY N. AMERICAN CAR OUTPUT 328,221, OFF 26.3 PCT FROM 445,440 LAST YEAR\n",
      " \n",
      "CHRYSLER MAY N. AMERICAN CAR OUTPUT 94,715, OFF 12.8 PCT FROM 108,595 LAST YEAR\n",
      " \n",
      "FORD MAY N. AMERICAN CAR PRODUCTION 213,790, UP 2.2 PCT FROM 209,109\n",
      " \n",
      "SECURITY PACIFIC TO ADD 500 MLN DLRS TO RESERVE FOR CREDIT LOSSES\n",
      " \n",
      "SECURITY PACIFIC EXPECTS 175 MLN DLR LOSS IN QTR AS RESULT OF LOSS PROVISION\n",
      " \n",
      "S/P AFFIRMS RATINGS ON SECURITY PACIFIC\n",
      " \n",
      "Tokyo-West German economy contracted 1/2 to one pct in 1st qtr - Schlesinger\n",
      " \n",
      "Fujitsu Ltd group net profit 21.61 billion yen vs 38.93 billion (year to Mar 31)\n",
      " \n",
      " Bundesbank sets 28-day securities repurchase tender at minimum 3.50 pct\n",
      " \n",
      "HOG AND CATTLE SLAUGHTER GUESSTIMATES Chicago Mercantile Exchange floor traders and commission house representatives are guesstimating today's hog slaughter at about 265,000 to 275,000 head versus 286,000 week ago and 278,000 a year ago. Cattle slaughter is guesstimated at about 128,000 to 132,000 head versus 132,000 week ago and 137,000 a year ago. Reuter \u0003\n",
      "/U.S. NON-FARM PRODUCTIVITY ROSE REVISED 0.5 PCT IN 1ST QTR INSTEAD OF 1.7 PCT\n",
      " \n",
      "/U.S. SALES OF SINGLE-FAMILY HOMES ROSE 7.6 PCT IN APRIL AFTER REVISED 2.7 PCT MARCH DROP\n",
      " \n",
      "Tokyo stock index rises 157.20 to third straight record close of 21,470.20\n",
      " \n",
      "S/P DOWNGRADES CANADA'S PROVINCE OF SASKATCHEWAN, AFFECTS 1.68 BILLION U.S. DLRS OF DEBT\n",
      " \n",
      "MERRILL LYNCH SAYS IT FIRED NAHUM VASKEVITCH\n",
      " \n",
      " \n",
      "S/P DOWNGRADES FIRST INTERSTATE BANCORP'S 1.3 BILLION DLRS OF DEBT\n",
      " \n",
      "S/P AFFIRMS W.R. GRACE AND CO'S 575 MLN DLRS OF DEBT AFTER ITS 4TH-QTR LOSS\n",
      " \n",
      "S/P AFFIRMS RESORTS INTERNATIONAL INC'S 600 MLN DLRS OF DEBT\n",
      " \n",
      "FCC PANEL VOTES 1.50 DLR HIKE IN MONTHLY RESIDENTAL PHONE SUBSCRIBER LINE CHARGE\n",
      " \n",
      "DOME PETROLEUM SAYS MAJORITY OF LENDERS SUPPORT DEBT RESTRUCTURING PLAN\n",
      " \n",
      "DOME SAYS DEBT PLAN ONLY ALLOWS IT TO STRUGGLE ON AT CURRENT OIL PRICES\n",
      " \n",
      "COURT UPHOLDS SECURITIES PANEL DECISION TO BLOCK CTC DEALERS' CANADIAN TIRE OFFER\n",
      " \n",
      "NORTHERN TELECOM TO REDEEM CLASS A SERIES ONE PREFERREDS ON APRIL 27\n",
      " \n",
      " ALUSUISSE SAYS IT PLANS 50 PCT CAPITAL CUT\n",
      " \n",
      "GENERALE OCCIDENTALE SEEKS 100 MLN DLR FACILITY Generale Occidentale, Paris, has mandated Orion Royal Bank Ltd to arrange a 100 mln dlr revolving credit facility, Orion said. Borrowings under the seven-year facility can be in dollars or other currencies where available. Drawings will be at 3/8 pct over the London interbank offered rate for one, three or six months or at 1/8 pct over Royal Bank of Canada's U.S. Prime rate for periods of one to 30 days. There will be a commitment fee of 1/4 pct per annum on the unutilised available amount and 1/8 pct on the amount designated as unavailable. Proceeds from the facility will be used to refinance an existing loan facility and provide a flexible source of finance for general corporate purposes. Generale Occidentale, a rare borrower in the international capital markets, is engaged in food distribution, forestry, oil production and media activities with interests in Europe and North America. REUTER \u0003\n",
      "CITICORP CALL UNFOUNDED RUMORS THAT IT HAS WRITTEN OFF ANY LATIN AMERICAN DEBT\n",
      " \n",
      " German federal railways stock 900 mln marks, 10 years at 6-1/4 pct and par - Bundesbank\n",
      " \n",
      "MOODY'S DOWNGRADES BENEFICIAL CORP'S 3.4 BILLION DLRS OF DEBT\n",
      " \n",
      "CHRYSLER EARLY MARCH CAR SALES UP 0.4 PCT\n",
      " \n",
      "UAL INC FILES FOR FIVE MLN COMMON SHARE OFFERING\n",
      " \n",
      "MIDLAND SAYS GREENWELL MONTAGU SECURITIES TO PULL OUT OF EQUITY MARKET MAKING\n",
      " \n"
     ]
    }
   ],
   "source": [
    "c = 0\n",
    "for i in result[0]:\n",
    "    if i:\n",
    "        print(test_data[c])\n",
    "        c = c+1"
   ]
  }
 ],
 "metadata": {
  "kernelspec": {
   "display_name": "Python [Root]",
   "language": "python",
   "name": "Python [Root]"
  },
  "language_info": {
   "codemirror_mode": {
    "name": "ipython",
    "version": 2
   },
   "file_extension": ".py",
   "mimetype": "text/x-python",
   "name": "python",
   "nbconvert_exporter": "python",
   "pygments_lexer": "ipython2",
   "version": "2.7.12"
  }
 },
 "nbformat": 4,
 "nbformat_minor": 0
}
